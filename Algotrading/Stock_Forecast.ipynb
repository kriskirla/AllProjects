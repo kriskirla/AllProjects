{
  "nbformat": 4,
  "nbformat_minor": 0,
  "metadata": {
    "colab": {
      "name": "Stock_Prediction.ipynb",
      "provenance": [],
      "collapsed_sections": [],
      "authorship_tag": "ABX9TyMDsOxw3DODPPwyPzQdKDJM",
      "include_colab_link": true
    },
    "kernelspec": {
      "name": "python3",
      "display_name": "Python 3"
    }
  },
  "cells": [
    {
      "cell_type": "markdown",
      "metadata": {
        "id": "view-in-github",
        "colab_type": "text"
      },
      "source": [
        "<a href=\"https://colab.research.google.com/github/kriskirla/AllProjects/blob/master/Algotrading/Stock_Prediction.ipynb\" target=\"_parent\"><img src=\"https://colab.research.google.com/assets/colab-badge.svg\" alt=\"Open In Colab\"/></a>"
      ]
    },
    {
      "cell_type": "code",
      "metadata": {
        "id": "m6db4V6epb6m"
      },
      "source": [
        "# Description: This program will predict the stock for a specific day using ML"
      ],
      "execution_count": null,
      "outputs": []
    },
    {
      "cell_type": "code",
      "metadata": {
        "id": "m2Xn1ziTqf9G"
      },
      "source": [
        "!pip install yfinance"
      ],
      "execution_count": null,
      "outputs": []
    },
    {
      "cell_type": "code",
      "metadata": {
        "id": "ncucLhBnplHj"
      },
      "source": [
        "# Import libaries\n",
        "from sklearn.svm import SVR\n",
        "import yfinance as yf\n",
        "import numpy as np\n",
        "import pandas as pd\n",
        "from datetime import datetime as dt\n",
        "import matplotlib.pyplot as plt\n",
        "plt.style.use('fivethirtyeight')"
      ],
      "execution_count": null,
      "outputs": []
    },
    {
      "cell_type": "code",
      "metadata": {
        "id": "Hqt2WZ_TqZBu",
        "colab": {
          "base_uri": "https://localhost:8080/"
        },
        "outputId": "510ad649-909c-4afc-fdb7-2ea6a117009b"
      },
      "source": [
        "ticker = \"MSFT\";\n",
        "\n",
        "# Get data from yahoo finance\n",
        "df = yf.download(ticker, start=\"2020-01-01\", end=\"2020-01-31\")#end=dt.today().strftime('%Y-%m-%d'))"
      ],
      "execution_count": 75,
      "outputs": [
        {
          "output_type": "stream",
          "text": [
            "\r[*********************100%***********************]  1 of 1 completed\n"
          ],
          "name": "stdout"
        }
      ]
    },
    {
      "cell_type": "code",
      "metadata": {
        "colab": {
          "base_uri": "https://localhost:8080/",
          "height": 105
        },
        "id": "uwelXeEPrSej",
        "outputId": "ea0beac6-2b6a-4758-dde1-fbf05de6cd8b"
      },
      "source": [
        "# Get the last row of data to test the correctness\n",
        "actual_price = df.tail(1)\n",
        "actual_price"
      ],
      "execution_count": 76,
      "outputs": [
        {
          "output_type": "execute_result",
          "data": {
            "text/html": [
              "<div>\n",
              "<style scoped>\n",
              "    .dataframe tbody tr th:only-of-type {\n",
              "        vertical-align: middle;\n",
              "    }\n",
              "\n",
              "    .dataframe tbody tr th {\n",
              "        vertical-align: top;\n",
              "    }\n",
              "\n",
              "    .dataframe thead th {\n",
              "        text-align: right;\n",
              "    }\n",
              "</style>\n",
              "<table border=\"1\" class=\"dataframe\">\n",
              "  <thead>\n",
              "    <tr style=\"text-align: right;\">\n",
              "      <th></th>\n",
              "      <th>Open</th>\n",
              "      <th>High</th>\n",
              "      <th>Low</th>\n",
              "      <th>Close</th>\n",
              "      <th>Adj Close</th>\n",
              "      <th>Volume</th>\n",
              "    </tr>\n",
              "    <tr>\n",
              "      <th>Date</th>\n",
              "      <th></th>\n",
              "      <th></th>\n",
              "      <th></th>\n",
              "      <th></th>\n",
              "      <th></th>\n",
              "      <th></th>\n",
              "    </tr>\n",
              "  </thead>\n",
              "  <tbody>\n",
              "    <tr>\n",
              "      <th>2020-01-30</th>\n",
              "      <td>174.050003</td>\n",
              "      <td>174.050003</td>\n",
              "      <td>170.789993</td>\n",
              "      <td>172.779999</td>\n",
              "      <td>170.968826</td>\n",
              "      <td>51597500</td>\n",
              "    </tr>\n",
              "  </tbody>\n",
              "</table>\n",
              "</div>"
            ],
            "text/plain": [
              "                  Open        High  ...   Adj Close    Volume\n",
              "Date                                ...                      \n",
              "2020-01-30  174.050003  174.050003  ...  170.968826  51597500\n",
              "\n",
              "[1 rows x 6 columns]"
            ]
          },
          "metadata": {
            "tags": []
          },
          "execution_count": 76
        }
      ]
    },
    {
      "cell_type": "code",
      "metadata": {
        "colab": {
          "base_uri": "https://localhost:8080/",
          "height": 622
        },
        "id": "oo_PXg3Er1Eb",
        "outputId": "f9354a0a-714e-4839-df45-8c51cc76da62"
      },
      "source": [
        "# Get the data except for the last row\n",
        "df = df.head(len(df) - 1)\n",
        "df"
      ],
      "execution_count": 77,
      "outputs": [
        {
          "output_type": "execute_result",
          "data": {
            "text/html": [
              "<div>\n",
              "<style scoped>\n",
              "    .dataframe tbody tr th:only-of-type {\n",
              "        vertical-align: middle;\n",
              "    }\n",
              "\n",
              "    .dataframe tbody tr th {\n",
              "        vertical-align: top;\n",
              "    }\n",
              "\n",
              "    .dataframe thead th {\n",
              "        text-align: right;\n",
              "    }\n",
              "</style>\n",
              "<table border=\"1\" class=\"dataframe\">\n",
              "  <thead>\n",
              "    <tr style=\"text-align: right;\">\n",
              "      <th></th>\n",
              "      <th>Open</th>\n",
              "      <th>High</th>\n",
              "      <th>Low</th>\n",
              "      <th>Close</th>\n",
              "      <th>Adj Close</th>\n",
              "      <th>Volume</th>\n",
              "    </tr>\n",
              "    <tr>\n",
              "      <th>Date</th>\n",
              "      <th></th>\n",
              "      <th></th>\n",
              "      <th></th>\n",
              "      <th></th>\n",
              "      <th></th>\n",
              "      <th></th>\n",
              "    </tr>\n",
              "  </thead>\n",
              "  <tbody>\n",
              "    <tr>\n",
              "      <th>2020-01-02</th>\n",
              "      <td>158.779999</td>\n",
              "      <td>160.729996</td>\n",
              "      <td>158.330002</td>\n",
              "      <td>160.619995</td>\n",
              "      <td>158.936279</td>\n",
              "      <td>22622100</td>\n",
              "    </tr>\n",
              "    <tr>\n",
              "      <th>2020-01-03</th>\n",
              "      <td>158.320007</td>\n",
              "      <td>159.949997</td>\n",
              "      <td>158.059998</td>\n",
              "      <td>158.619995</td>\n",
              "      <td>156.957260</td>\n",
              "      <td>21116200</td>\n",
              "    </tr>\n",
              "    <tr>\n",
              "      <th>2020-01-06</th>\n",
              "      <td>157.080002</td>\n",
              "      <td>159.100006</td>\n",
              "      <td>156.509995</td>\n",
              "      <td>159.029999</td>\n",
              "      <td>157.362961</td>\n",
              "      <td>20813700</td>\n",
              "    </tr>\n",
              "    <tr>\n",
              "      <th>2020-01-07</th>\n",
              "      <td>159.320007</td>\n",
              "      <td>159.669998</td>\n",
              "      <td>157.320007</td>\n",
              "      <td>157.580002</td>\n",
              "      <td>155.928177</td>\n",
              "      <td>21634100</td>\n",
              "    </tr>\n",
              "    <tr>\n",
              "      <th>2020-01-08</th>\n",
              "      <td>158.929993</td>\n",
              "      <td>160.800003</td>\n",
              "      <td>157.949997</td>\n",
              "      <td>160.089996</td>\n",
              "      <td>158.411835</td>\n",
              "      <td>27746500</td>\n",
              "    </tr>\n",
              "    <tr>\n",
              "      <th>2020-01-09</th>\n",
              "      <td>161.839996</td>\n",
              "      <td>162.220001</td>\n",
              "      <td>161.029999</td>\n",
              "      <td>162.089996</td>\n",
              "      <td>160.390869</td>\n",
              "      <td>21385000</td>\n",
              "    </tr>\n",
              "    <tr>\n",
              "      <th>2020-01-10</th>\n",
              "      <td>162.820007</td>\n",
              "      <td>163.220001</td>\n",
              "      <td>161.179993</td>\n",
              "      <td>161.339996</td>\n",
              "      <td>159.648727</td>\n",
              "      <td>20725900</td>\n",
              "    </tr>\n",
              "    <tr>\n",
              "      <th>2020-01-13</th>\n",
              "      <td>161.759995</td>\n",
              "      <td>163.309998</td>\n",
              "      <td>161.259995</td>\n",
              "      <td>163.279999</td>\n",
              "      <td>161.568405</td>\n",
              "      <td>21626500</td>\n",
              "    </tr>\n",
              "    <tr>\n",
              "      <th>2020-01-14</th>\n",
              "      <td>163.389999</td>\n",
              "      <td>163.600006</td>\n",
              "      <td>161.720001</td>\n",
              "      <td>162.130005</td>\n",
              "      <td>160.430450</td>\n",
              "      <td>23477400</td>\n",
              "    </tr>\n",
              "    <tr>\n",
              "      <th>2020-01-15</th>\n",
              "      <td>162.619995</td>\n",
              "      <td>163.940002</td>\n",
              "      <td>162.570007</td>\n",
              "      <td>163.179993</td>\n",
              "      <td>161.469452</td>\n",
              "      <td>21417900</td>\n",
              "    </tr>\n",
              "    <tr>\n",
              "      <th>2020-01-16</th>\n",
              "      <td>164.350006</td>\n",
              "      <td>166.240005</td>\n",
              "      <td>164.029999</td>\n",
              "      <td>166.169998</td>\n",
              "      <td>164.428116</td>\n",
              "      <td>23865400</td>\n",
              "    </tr>\n",
              "    <tr>\n",
              "      <th>2020-01-17</th>\n",
              "      <td>167.419998</td>\n",
              "      <td>167.470001</td>\n",
              "      <td>165.429993</td>\n",
              "      <td>167.100006</td>\n",
              "      <td>165.348358</td>\n",
              "      <td>34371700</td>\n",
              "    </tr>\n",
              "    <tr>\n",
              "      <th>2020-01-21</th>\n",
              "      <td>166.679993</td>\n",
              "      <td>168.190002</td>\n",
              "      <td>166.429993</td>\n",
              "      <td>166.500000</td>\n",
              "      <td>164.754654</td>\n",
              "      <td>29517200</td>\n",
              "    </tr>\n",
              "    <tr>\n",
              "      <th>2020-01-22</th>\n",
              "      <td>167.399994</td>\n",
              "      <td>167.490005</td>\n",
              "      <td>165.679993</td>\n",
              "      <td>165.699997</td>\n",
              "      <td>163.963043</td>\n",
              "      <td>24138800</td>\n",
              "    </tr>\n",
              "    <tr>\n",
              "      <th>2020-01-23</th>\n",
              "      <td>166.190002</td>\n",
              "      <td>166.800003</td>\n",
              "      <td>165.270004</td>\n",
              "      <td>166.720001</td>\n",
              "      <td>164.972351</td>\n",
              "      <td>19680800</td>\n",
              "    </tr>\n",
              "    <tr>\n",
              "      <th>2020-01-24</th>\n",
              "      <td>167.509995</td>\n",
              "      <td>167.529999</td>\n",
              "      <td>164.449997</td>\n",
              "      <td>165.039993</td>\n",
              "      <td>163.309952</td>\n",
              "      <td>24918100</td>\n",
              "    </tr>\n",
              "    <tr>\n",
              "      <th>2020-01-27</th>\n",
              "      <td>161.149994</td>\n",
              "      <td>163.380005</td>\n",
              "      <td>160.199997</td>\n",
              "      <td>162.279999</td>\n",
              "      <td>160.578888</td>\n",
              "      <td>32078100</td>\n",
              "    </tr>\n",
              "    <tr>\n",
              "      <th>2020-01-28</th>\n",
              "      <td>163.779999</td>\n",
              "      <td>165.759995</td>\n",
              "      <td>163.070007</td>\n",
              "      <td>165.460007</td>\n",
              "      <td>163.725555</td>\n",
              "      <td>24899900</td>\n",
              "    </tr>\n",
              "    <tr>\n",
              "      <th>2020-01-29</th>\n",
              "      <td>167.839996</td>\n",
              "      <td>168.750000</td>\n",
              "      <td>165.690002</td>\n",
              "      <td>168.039993</td>\n",
              "      <td>166.278503</td>\n",
              "      <td>34754500</td>\n",
              "    </tr>\n",
              "  </tbody>\n",
              "</table>\n",
              "</div>"
            ],
            "text/plain": [
              "                  Open        High  ...   Adj Close    Volume\n",
              "Date                                ...                      \n",
              "2020-01-02  158.779999  160.729996  ...  158.936279  22622100\n",
              "2020-01-03  158.320007  159.949997  ...  156.957260  21116200\n",
              "2020-01-06  157.080002  159.100006  ...  157.362961  20813700\n",
              "2020-01-07  159.320007  159.669998  ...  155.928177  21634100\n",
              "2020-01-08  158.929993  160.800003  ...  158.411835  27746500\n",
              "2020-01-09  161.839996  162.220001  ...  160.390869  21385000\n",
              "2020-01-10  162.820007  163.220001  ...  159.648727  20725900\n",
              "2020-01-13  161.759995  163.309998  ...  161.568405  21626500\n",
              "2020-01-14  163.389999  163.600006  ...  160.430450  23477400\n",
              "2020-01-15  162.619995  163.940002  ...  161.469452  21417900\n",
              "2020-01-16  164.350006  166.240005  ...  164.428116  23865400\n",
              "2020-01-17  167.419998  167.470001  ...  165.348358  34371700\n",
              "2020-01-21  166.679993  168.190002  ...  164.754654  29517200\n",
              "2020-01-22  167.399994  167.490005  ...  163.963043  24138800\n",
              "2020-01-23  166.190002  166.800003  ...  164.972351  19680800\n",
              "2020-01-24  167.509995  167.529999  ...  163.309952  24918100\n",
              "2020-01-27  161.149994  163.380005  ...  160.578888  32078100\n",
              "2020-01-28  163.779999  165.759995  ...  163.725555  24899900\n",
              "2020-01-29  167.839996  168.750000  ...  166.278503  34754500\n",
              "\n",
              "[19 rows x 6 columns]"
            ]
          },
          "metadata": {
            "tags": []
          },
          "execution_count": 77
        }
      ]
    },
    {
      "cell_type": "code",
      "metadata": {
        "id": "sDe3lNEQsAYq"
      },
      "source": [
        "# Create independant dataset and dependant dataset\n",
        "df_days = df.index\n",
        "df_adj_close = df.loc[:, 'Adj Close']\n",
        "\n",
        "days = [[i.day] for i in df_days ]\n",
        "adj_close_price = [float(price) for price in df_adj_close]"
      ],
      "execution_count": 79,
      "outputs": []
    },
    {
      "cell_type": "code",
      "metadata": {
        "id": "hBJGErwJwcYs",
        "colab": {
          "base_uri": "https://localhost:8080/"
        },
        "outputId": "c9d57125-0c55-435f-ba94-e2cd50ae643c"
      },
      "source": [
        "# Linear Model\n",
        "lin_svr = SVR(kernel='linear', C=1000)\n",
        "lin_svr.fit(days, adj_close_price)\n",
        "# Polynomial Model\n",
        "poly_svr = SVR(kernel='poly', C=1000, degree=2)\n",
        "poly_svr.fit(days, adj_close_price)\n",
        "# Radial Basis Function Model\n",
        "rbf_svr = SVR(kernel='rbf', C=1000, gamma=0.85)\n",
        "rbf_svr.fit(days, adj_close_price)"
      ],
      "execution_count": 80,
      "outputs": [
        {
          "output_type": "execute_result",
          "data": {
            "text/plain": [
              "SVR(C=1000, cache_size=200, coef0=0.0, degree=3, epsilon=0.1, gamma=0.85,\n",
              "    kernel='rbf', max_iter=-1, shrinking=True, tol=0.001, verbose=False)"
            ]
          },
          "metadata": {
            "tags": []
          },
          "execution_count": 80
        }
      ]
    },
    {
      "cell_type": "code",
      "metadata": {
        "colab": {
          "base_uri": "https://localhost:8080/",
          "height": 557
        },
        "id": "l5JqY-cQxDxg",
        "outputId": "eacbd0f8-f5a0-4957-c733-f9e0be14c1b0"
      },
      "source": [
        "# Plot the models\n",
        "plt.figure(figsize=(16,8))\n",
        "plt.scatter(days, adj_close_price, color='black', label='Data')\n",
        "plt.plot(days, rbf_svr.predict(days), color='green', label='RBF Model')\n",
        "plt.plot(days, poly_svr.predict(days), color='orange', label='Polynomial Model')\n",
        "plt.plot(days, lin_svr.predict(days), color='blue', label='Linear Model')\n",
        "plt.title(ticker)\n",
        "plt.xlabel('Days')\n",
        "plt.ylabel('Adj Close Price (USD)')\n",
        "plt.legend()\n",
        "plt.show()"
      ],
      "execution_count": 81,
      "outputs": [
        {
          "output_type": "display_data",
          "data": {
            "image/png": "[encoded data removed]",
            "text/plain": [
              "<Figure size 1152x576 with 1 Axes>"
            ]
          },
          "metadata": {
            "tags": []
          }
        }
      ]
    },
    {
      "cell_type": "code",
      "metadata": {
        "colab": {
          "base_uri": "https://localhost:8080/"
        },
        "id": "XLqc8l62yL5a",
        "outputId": "c2e6b4dc-6839-4cf8-ad62-065c01a89584"
      },
      "source": [
        "# Show the predicted price for the given day\n",
        "day = [[30]]\n",
        "\n",
        "print(f\"Predicted price using RBF Model: {rbf_svr.predict(day)}\")\n",
        "print(f\"Predicted price using Polynomial Model: {poly_svr.predict(day)}\")\n",
        "print(f\"Predicted price using Linear Model: {lin_svr.predict(day)}\")\n",
        "print(f\"Actual Price: {actual_price.iloc[0]['Adj Close']}\")"
      ],
      "execution_count": 82,
      "outputs": [
        {
          "output_type": "stream",
          "text": [
            "Predicted price using RBF Model: [163.40752629]\n",
            "Predicted price using Polynomial Model: [166.89581879]\n",
            "Predicted price using Linear Model: [166.71286185]\n",
            "Actual Price: 170.9688262939453\n"
          ],
          "name": "stdout"
        }
      ]
    }
  ]
}