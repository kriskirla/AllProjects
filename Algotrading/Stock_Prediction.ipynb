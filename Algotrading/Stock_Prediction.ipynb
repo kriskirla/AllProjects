{
  "nbformat": 4,
  "nbformat_minor": 0,
  "metadata": {
    "colab": {
      "name": "Stock_Prediction.ipynb",
      "provenance": [],
      "collapsed_sections": [],
      "authorship_tag": "ABX9TyPuIFTmHl91Yv7DJSC2oEiu",
      "include_colab_link": true
    },
    "kernelspec": {
      "name": "python3",
      "display_name": "Python 3"
    }
  },
  "cells": [
    {
      "cell_type": "markdown",
      "metadata": {
        "id": "view-in-github",
        "colab_type": "text"
      },
      "source": [
        "<a href=\"https://colab.research.google.com/github/kriskirla/AllProjects/blob/master/Algotrading/Stock_Prediction.ipynb\" target=\"_parent\"><img src=\"https://colab.research.google.com/assets/colab-badge.svg\" alt=\"Open In Colab\"/></a>"
      ]
    },
    {
      "cell_type": "code",
      "metadata": {
        "id": "m6db4V6epb6m"
      },
      "source": [
        "# Description: This program will predict the stock for a specific day using ML"
      ],
      "execution_count": null,
      "outputs": []
    },
    {
      "cell_type": "code",
      "metadata": {
        "id": "m2Xn1ziTqf9G"
      },
      "source": [
        "!pip install yfinance"
      ],
      "execution_count": null,
      "outputs": []
    },
    {
      "cell_type": "code",
      "metadata": {
        "id": "ncucLhBnplHj"
      },
      "source": [
        "# Import libaries\n",
        "from sklearn.svm import SVR\n",
        "import yfinance as yf\n",
        "import numpy as np\n",
        "import pandas as pd\n",
        "from datetime import datetime as dt\n",
        "import matplotlib.pyplot as plt\n",
        "plt.style.use('fivethirtyeight')"
      ],
      "execution_count": 5,
      "outputs": []
    },
    {
      "cell_type": "code",
      "metadata": {
        "id": "Hqt2WZ_TqZBu"
      },
      "source": [
        "ticker = \"AAPL\";\n",
        "\n",
        "# Get data from yahoo finance\n",
        "df = yf.download(ticker, start=\"2020-01-01\", end=\"2020-01-31\")#end=dt.today().strftime('%Y-%m-%d'))"
      ],
      "execution_count": null,
      "outputs": []
    },
    {
      "cell_type": "code",
      "metadata": {
        "colab": {
          "base_uri": "https://localhost:8080/",
          "height": 105
        },
        "id": "uwelXeEPrSej",
        "outputId": "31073754-2ba7-4083-b008-c855cc0127e9"
      },
      "source": [
        "# Get the last row of data to test the correctness\n",
        "actual_price = df.tail(1)\n",
        "actual_price"
      ],
      "execution_count": 42,
      "outputs": [
        {
          "output_type": "execute_result",
          "data": {
            "text/html": [
              "<div>\n",
              "<style scoped>\n",
              "    .dataframe tbody tr th:only-of-type {\n",
              "        vertical-align: middle;\n",
              "    }\n",
              "\n",
              "    .dataframe tbody tr th {\n",
              "        vertical-align: top;\n",
              "    }\n",
              "\n",
              "    .dataframe thead th {\n",
              "        text-align: right;\n",
              "    }\n",
              "</style>\n",
              "<table border=\"1\" class=\"dataframe\">\n",
              "  <thead>\n",
              "    <tr style=\"text-align: right;\">\n",
              "      <th></th>\n",
              "      <th>Open</th>\n",
              "      <th>High</th>\n",
              "      <th>Low</th>\n",
              "      <th>Close</th>\n",
              "      <th>Adj Close</th>\n",
              "      <th>Volume</th>\n",
              "    </tr>\n",
              "    <tr>\n",
              "      <th>Date</th>\n",
              "      <th></th>\n",
              "      <th></th>\n",
              "      <th></th>\n",
              "      <th></th>\n",
              "      <th></th>\n",
              "      <th></th>\n",
              "    </tr>\n",
              "  </thead>\n",
              "  <tbody>\n",
              "    <tr>\n",
              "      <th>2020-01-30</th>\n",
              "      <td>80.135002</td>\n",
              "      <td>81.022499</td>\n",
              "      <td>79.6875</td>\n",
              "      <td>80.967499</td>\n",
              "      <td>80.154472</td>\n",
              "      <td>126743200</td>\n",
              "    </tr>\n",
              "  </tbody>\n",
              "</table>\n",
              "</div>"
            ],
            "text/plain": [
              "                 Open       High      Low      Close  Adj Close     Volume\n",
              "Date                                                                      \n",
              "2020-01-30  80.135002  81.022499  79.6875  80.967499  80.154472  126743200"
            ]
          },
          "metadata": {
            "tags": []
          },
          "execution_count": 42
        }
      ]
    },
    {
      "cell_type": "code",
      "metadata": {
        "colab": {
          "base_uri": "https://localhost:8080/",
          "height": 622
        },
        "id": "oo_PXg3Er1Eb",
        "outputId": "e7a7f55f-b474-4a0a-a749-48a980d622a1"
      },
      "source": [
        "# Get the data except for the last row\n",
        "df = df.head(len(df) - 1)\n",
        "df"
      ],
      "execution_count": 43,
      "outputs": [
        {
          "output_type": "execute_result",
          "data": {
            "text/html": [
              "<div>\n",
              "<style scoped>\n",
              "    .dataframe tbody tr th:only-of-type {\n",
              "        vertical-align: middle;\n",
              "    }\n",
              "\n",
              "    .dataframe tbody tr th {\n",
              "        vertical-align: top;\n",
              "    }\n",
              "\n",
              "    .dataframe thead th {\n",
              "        text-align: right;\n",
              "    }\n",
              "</style>\n",
              "<table border=\"1\" class=\"dataframe\">\n",
              "  <thead>\n",
              "    <tr style=\"text-align: right;\">\n",
              "      <th></th>\n",
              "      <th>Open</th>\n",
              "      <th>High</th>\n",
              "      <th>Low</th>\n",
              "      <th>Close</th>\n",
              "      <th>Adj Close</th>\n",
              "      <th>Volume</th>\n",
              "    </tr>\n",
              "    <tr>\n",
              "      <th>Date</th>\n",
              "      <th></th>\n",
              "      <th></th>\n",
              "      <th></th>\n",
              "      <th></th>\n",
              "      <th></th>\n",
              "      <th></th>\n",
              "    </tr>\n",
              "  </thead>\n",
              "  <tbody>\n",
              "    <tr>\n",
              "      <th>2020-01-02</th>\n",
              "      <td>74.059998</td>\n",
              "      <td>75.150002</td>\n",
              "      <td>73.797501</td>\n",
              "      <td>75.087502</td>\n",
              "      <td>74.333511</td>\n",
              "      <td>135480400</td>\n",
              "    </tr>\n",
              "    <tr>\n",
              "      <th>2020-01-03</th>\n",
              "      <td>74.287498</td>\n",
              "      <td>75.144997</td>\n",
              "      <td>74.125000</td>\n",
              "      <td>74.357498</td>\n",
              "      <td>73.610840</td>\n",
              "      <td>146322800</td>\n",
              "    </tr>\n",
              "    <tr>\n",
              "      <th>2020-01-06</th>\n",
              "      <td>73.447502</td>\n",
              "      <td>74.989998</td>\n",
              "      <td>73.187500</td>\n",
              "      <td>74.949997</td>\n",
              "      <td>74.197395</td>\n",
              "      <td>118387200</td>\n",
              "    </tr>\n",
              "    <tr>\n",
              "      <th>2020-01-07</th>\n",
              "      <td>74.959999</td>\n",
              "      <td>75.224998</td>\n",
              "      <td>74.370003</td>\n",
              "      <td>74.597504</td>\n",
              "      <td>73.848442</td>\n",
              "      <td>108872000</td>\n",
              "    </tr>\n",
              "    <tr>\n",
              "      <th>2020-01-08</th>\n",
              "      <td>74.290001</td>\n",
              "      <td>76.110001</td>\n",
              "      <td>74.290001</td>\n",
              "      <td>75.797501</td>\n",
              "      <td>75.036385</td>\n",
              "      <td>132079200</td>\n",
              "    </tr>\n",
              "    <tr>\n",
              "      <th>2020-01-09</th>\n",
              "      <td>76.809998</td>\n",
              "      <td>77.607498</td>\n",
              "      <td>76.550003</td>\n",
              "      <td>77.407501</td>\n",
              "      <td>76.630219</td>\n",
              "      <td>170108400</td>\n",
              "    </tr>\n",
              "    <tr>\n",
              "      <th>2020-01-10</th>\n",
              "      <td>77.650002</td>\n",
              "      <td>78.167503</td>\n",
              "      <td>77.062500</td>\n",
              "      <td>77.582497</td>\n",
              "      <td>76.803459</td>\n",
              "      <td>140644800</td>\n",
              "    </tr>\n",
              "    <tr>\n",
              "      <th>2020-01-13</th>\n",
              "      <td>77.910004</td>\n",
              "      <td>79.267502</td>\n",
              "      <td>77.787498</td>\n",
              "      <td>79.239998</td>\n",
              "      <td>78.444321</td>\n",
              "      <td>121532000</td>\n",
              "    </tr>\n",
              "    <tr>\n",
              "      <th>2020-01-14</th>\n",
              "      <td>79.175003</td>\n",
              "      <td>79.392502</td>\n",
              "      <td>78.042503</td>\n",
              "      <td>78.169998</td>\n",
              "      <td>77.385063</td>\n",
              "      <td>161954400</td>\n",
              "    </tr>\n",
              "    <tr>\n",
              "      <th>2020-01-15</th>\n",
              "      <td>77.962502</td>\n",
              "      <td>78.875000</td>\n",
              "      <td>77.387497</td>\n",
              "      <td>77.834999</td>\n",
              "      <td>77.053429</td>\n",
              "      <td>121923600</td>\n",
              "    </tr>\n",
              "    <tr>\n",
              "      <th>2020-01-16</th>\n",
              "      <td>78.397499</td>\n",
              "      <td>78.925003</td>\n",
              "      <td>78.022499</td>\n",
              "      <td>78.809998</td>\n",
              "      <td>78.018631</td>\n",
              "      <td>108829200</td>\n",
              "    </tr>\n",
              "    <tr>\n",
              "      <th>2020-01-17</th>\n",
              "      <td>79.067497</td>\n",
              "      <td>79.684998</td>\n",
              "      <td>78.750000</td>\n",
              "      <td>79.682503</td>\n",
              "      <td>78.882370</td>\n",
              "      <td>137816400</td>\n",
              "    </tr>\n",
              "    <tr>\n",
              "      <th>2020-01-21</th>\n",
              "      <td>79.297501</td>\n",
              "      <td>79.754997</td>\n",
              "      <td>79.000000</td>\n",
              "      <td>79.142502</td>\n",
              "      <td>78.347801</td>\n",
              "      <td>110843200</td>\n",
              "    </tr>\n",
              "    <tr>\n",
              "      <th>2020-01-22</th>\n",
              "      <td>79.644997</td>\n",
              "      <td>79.997498</td>\n",
              "      <td>79.327499</td>\n",
              "      <td>79.425003</td>\n",
              "      <td>78.627464</td>\n",
              "      <td>101832400</td>\n",
              "    </tr>\n",
              "    <tr>\n",
              "      <th>2020-01-23</th>\n",
              "      <td>79.480003</td>\n",
              "      <td>79.889999</td>\n",
              "      <td>78.912498</td>\n",
              "      <td>79.807503</td>\n",
              "      <td>79.006119</td>\n",
              "      <td>104472000</td>\n",
              "    </tr>\n",
              "    <tr>\n",
              "      <th>2020-01-24</th>\n",
              "      <td>80.062500</td>\n",
              "      <td>80.832497</td>\n",
              "      <td>79.379997</td>\n",
              "      <td>79.577499</td>\n",
              "      <td>78.778435</td>\n",
              "      <td>146537600</td>\n",
              "    </tr>\n",
              "    <tr>\n",
              "      <th>2020-01-27</th>\n",
              "      <td>77.514999</td>\n",
              "      <td>77.942497</td>\n",
              "      <td>76.220001</td>\n",
              "      <td>77.237503</td>\n",
              "      <td>76.461929</td>\n",
              "      <td>161940000</td>\n",
              "    </tr>\n",
              "    <tr>\n",
              "      <th>2020-01-28</th>\n",
              "      <td>78.150002</td>\n",
              "      <td>79.599998</td>\n",
              "      <td>78.047501</td>\n",
              "      <td>79.422501</td>\n",
              "      <td>78.624992</td>\n",
              "      <td>162234000</td>\n",
              "    </tr>\n",
              "    <tr>\n",
              "      <th>2020-01-29</th>\n",
              "      <td>81.112503</td>\n",
              "      <td>81.962502</td>\n",
              "      <td>80.345001</td>\n",
              "      <td>81.084999</td>\n",
              "      <td>80.270790</td>\n",
              "      <td>216229200</td>\n",
              "    </tr>\n",
              "  </tbody>\n",
              "</table>\n",
              "</div>"
            ],
            "text/plain": [
              "                 Open       High        Low      Close  Adj Close     Volume\n",
              "Date                                                                        \n",
              "2020-01-02  74.059998  75.150002  73.797501  75.087502  74.333511  135480400\n",
              "2020-01-03  74.287498  75.144997  74.125000  74.357498  73.610840  146322800\n",
              "2020-01-06  73.447502  74.989998  73.187500  74.949997  74.197395  118387200\n",
              "2020-01-07  74.959999  75.224998  74.370003  74.597504  73.848442  108872000\n",
              "2020-01-08  74.290001  76.110001  74.290001  75.797501  75.036385  132079200\n",
              "2020-01-09  76.809998  77.607498  76.550003  77.407501  76.630219  170108400\n",
              "2020-01-10  77.650002  78.167503  77.062500  77.582497  76.803459  140644800\n",
              "2020-01-13  77.910004  79.267502  77.787498  79.239998  78.444321  121532000\n",
              "2020-01-14  79.175003  79.392502  78.042503  78.169998  77.385063  161954400\n",
              "2020-01-15  77.962502  78.875000  77.387497  77.834999  77.053429  121923600\n",
              "2020-01-16  78.397499  78.925003  78.022499  78.809998  78.018631  108829200\n",
              "2020-01-17  79.067497  79.684998  78.750000  79.682503  78.882370  137816400\n",
              "2020-01-21  79.297501  79.754997  79.000000  79.142502  78.347801  110843200\n",
              "2020-01-22  79.644997  79.997498  79.327499  79.425003  78.627464  101832400\n",
              "2020-01-23  79.480003  79.889999  78.912498  79.807503  79.006119  104472000\n",
              "2020-01-24  80.062500  80.832497  79.379997  79.577499  78.778435  146537600\n",
              "2020-01-27  77.514999  77.942497  76.220001  77.237503  76.461929  161940000\n",
              "2020-01-28  78.150002  79.599998  78.047501  79.422501  78.624992  162234000\n",
              "2020-01-29  81.112503  81.962502  80.345001  81.084999  80.270790  216229200"
            ]
          },
          "metadata": {
            "tags": []
          },
          "execution_count": 43
        }
      ]
    },
    {
      "cell_type": "code",
      "metadata": {
        "id": "sDe3lNEQsAYq"
      },
      "source": [
        "# Create independant dataset and dependant dataset\n",
        "df_days = df.index\n",
        "df_adj_close = df.loc[:, 'Adj Close']\n",
        "\n",
        "days = [[i.day] for i in df_days ]\n",
        "adj_close_price = [float(price) for price in df_adj_close]\n",
        "\n",
        "days"
      ],
      "execution_count": null,
      "outputs": []
    },
    {
      "cell_type": "code",
      "metadata": {
        "id": "hBJGErwJwcYs"
      },
      "source": [
        "# Linear Model\n",
        "lin_svr = SVR(kernel='linear', C=1000)\n",
        "lin_svr.fit(days, adj_close_price)\n",
        "# Polynomial Model\n",
        "poly_svr = SVR(kernel='poly', C=1000, degree=2)\n",
        "poly_svr.fit(days, adj_close_price)\n",
        "# Radial Basis Function Model\n",
        "rbf_svr = SVR(kernel='rbf', C=1000, gamma=0.85)\n",
        "rbf_svr.fit(days, adj_close_price)"
      ],
      "execution_count": null,
      "outputs": []
    },
    {
      "cell_type": "code",
      "metadata": {
        "colab": {
          "base_uri": "https://localhost:8080/",
          "height": 557
        },
        "id": "l5JqY-cQxDxg",
        "outputId": "98921b0e-9b81-4b78-a75b-7f1b00fe5927"
      },
      "source": [
        "# Plot the models\n",
        "plt.figure(figsize=(16,8))\n",
        "plt.scatter(days, adj_close_price, color='black', label='Data')\n",
        "plt.plot(days, rbf_svr.predict(days), color='green', label='RBF Model')\n",
        "plt.plot(days, poly_svr.predict(days), color='orange', label='Polynomial Model')\n",
        "plt.plot(days, lin_svr.predict(days), color='blue', label='Linear Model')\n",
        "plt.title(ticker)\n",
        "plt.xlabel('Days')\n",
        "plt.ylabel('Adj Close Price (USD)')\n",
        "plt.legend()\n",
        "plt.show()"
      ],
      "execution_count": 62,
      "outputs": [
        {
          "output_type": "display_data",
          "data": {
            "image/png": "[encoded data removed]",
            "text/plain": [
              "<Figure size 1152x576 with 1 Axes>"
            ]
          },
          "metadata": {
            "tags": []
          }
        }
      ]
    },
    {
      "cell_type": "code",
      "metadata": {
        "colab": {
          "base_uri": "https://localhost:8080/"
        },
        "id": "XLqc8l62yL5a",
        "outputId": "03f8e278-80db-4b0d-8aa0-6c5f6da677a7"
      },
      "source": [
        "# Show the predicted price for the given day\n",
        "day = [[30]]\n",
        "\n",
        "print(f\"Predicted price using RBF Model: {rbf_svr.predict(day)}\")\n",
        "print(f\"Predicted price using Polynomial Model: {poly_svr.predict(day)}\")\n",
        "print(f\"Predicted price using Linear Model: {lin_svr.predict(day)}\")\n",
        "print(f\"Actual Price: {actual_price.iloc[0]['Adj Close']}\")"
      ],
      "execution_count": 73,
      "outputs": [
        {
          "output_type": "stream",
          "text": [
            "Predicted price using RBF Model: [77.17298564]\n",
            "Predicted price using Polynomial Model: [80.8676817]\n",
            "Predicted price using Linear Model: [80.60184174]\n",
            "Actual Price: 80.15447235107422\n"
          ],
          "name": "stdout"
        }
      ]
    }
  ]
}