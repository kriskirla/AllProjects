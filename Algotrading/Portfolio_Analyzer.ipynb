{
  "nbformat": 4,
  "nbformat_minor": 0,
  "metadata": {
    "colab": {
      "name": "Portfolio_Analyzer.ipynb",
      "provenance": [],
      "collapsed_sections": [],
      "include_colab_link": true
    },
    "kernelspec": {
      "name": "python3",
      "display_name": "Python 3"
    }
  },
  "cells": [
    {
      "cell_type": "markdown",
      "metadata": {
        "id": "view-in-github",
        "colab_type": "text"
      },
      "source": [
        "<a href=\"https://colab.research.google.com/github/kriskirla/AllProjects/blob/master/Algotrading/Portfolio_Analyzer.ipynb\" target=\"_parent\"><img src=\"https://colab.research.google.com/assets/colab-badge.svg\" alt=\"Open In Colab\"/></a>"
      ]
    },
    {
      "cell_type": "code",
      "metadata": {
        "id": "44ExqPysmcit"
      },
      "source": [
        "#Description: Analyze my portfolio"
      ],
      "execution_count": null,
      "outputs": []
    },
    {
      "cell_type": "code",
      "metadata": {
        "id": "xazgORaI4I6n"
      },
      "source": [
        "!pip install PyPortfolioOpt\n",
        "!pip install pulp\n",
        "!pip install yfinance"
      ],
      "execution_count": null,
      "outputs": []
    },
    {
      "cell_type": "code",
      "metadata": {
        "id": "2Xn8KCXsmt-Q"
      },
      "source": [
        "# Import libraries \n",
        "import pandas as pd\n",
        "import numpy as np\n",
        "import requests\n",
        "import yfinance as yf\n",
        "import matplotlib.pyplot as plt\n",
        "from datetime import datetime as dt"
      ],
      "execution_count": 6,
      "outputs": []
    },
    {
      "cell_type": "code",
      "metadata": {
        "id": "J64ZMw75yp7N",
        "colab": {
          "base_uri": "https://localhost:8080/"
        },
        "outputId": "53f9b16a-1415-43ce-ba6d-377d00908706"
      },
      "source": [
        "# Tickers to track S&P500\n",
        "payload = pd.read_html('https://en.wikipedia.org/wiki/List_of_S%26P_500_companies')\n",
        "first_table = payload[0]\n",
        "second_table = payload[1]\n",
        "\n",
        "df = first_table\n",
        "ticker = df['Symbol'].values.tolist()"
      ],
      "execution_count": 96,
      "outputs": [
        {
          "output_type": "stream",
          "text": [
            "['MMM', 'ABT', 'ABBV', 'ABMD', 'ACN', 'ATVI', 'ADBE', 'AMD', 'AAP', 'AES', 'AFL', 'A', 'APD', 'AKAM', 'ALK', 'ALB', 'ARE', 'ALXN', 'ALGN', 'ALLE', 'LNT', 'ALL', 'GOOGL', 'GOOG', 'MO', 'AMZN', 'AMCR', 'AEE', 'AAL', 'AEP', 'AXP', 'AIG', 'AMT', 'AWK', 'AMP', 'ABC', 'AME', 'AMGN', 'APH', 'ADI', 'ANSS', 'ANTM', 'AON', 'AOS', 'APA', 'AAPL', 'AMAT', 'APTV', 'ADM', 'ANET', 'AJG', 'AIZ', 'T', 'ATO', 'ADSK', 'ADP', 'AZO', 'AVB', 'AVY', 'BKR', 'BLL', 'BAC', 'BK', 'BAX', 'BDX', 'BRK.B', 'BBY', 'BIO', 'BIIB', 'BLK', 'BA', 'BKNG', 'BWA', 'BXP', 'BSX', 'BMY', 'AVGO', 'BR', 'BF.B', 'CHRW', 'COG', 'CDNS', 'CPB', 'COF', 'CAH', 'KMX', 'CCL', 'CARR', 'CTLT', 'CAT', 'CBOE', 'CBRE', 'CDW', 'CE', 'CNC', 'CNP', 'CERN', 'CF', 'SCHW', 'CHTR', 'CVX', 'CMG', 'CB', 'CHD', 'CI', 'CINF', 'CTAS', 'CSCO', 'C', 'CFG', 'CTXS', 'CLX', 'CME', 'CMS', 'KO', 'CTSH', 'CL', 'CMCSA', 'CMA', 'CAG', 'COP', 'ED', 'STZ', 'COO', 'CPRT', 'GLW', 'CTVA', 'COST', 'CCI', 'CSX', 'CMI', 'CVS', 'DHI', 'DHR', 'DRI', 'DVA', 'DE', 'DAL', 'XRAY', 'DVN', 'DXCM', 'FANG', 'DLR', 'DFS', 'DISCA', 'DISCK', 'DISH', 'DG', 'DLTR', 'D', 'DPZ', 'DOV', 'DOW', 'DTE', 'DUK', 'DRE', 'DD', 'DXC', 'EMN', 'ETN', 'EBAY', 'ECL', 'EIX', 'EW', 'EA', 'EMR', 'ENPH', 'ETR', 'EOG', 'EFX', 'EQIX', 'EQR', 'ESS', 'EL', 'ETSY', 'EVRG', 'ES', 'RE', 'EXC', 'EXPE', 'EXPD', 'EXR', 'XOM', 'FFIV', 'FB', 'FAST', 'FRT', 'FDX', 'FIS', 'FITB', 'FE', 'FRC', 'FISV', 'FLT', 'FLIR', 'FLS', 'FMC', 'F', 'FTNT', 'FTV', 'FBHS', 'FOXA', 'FOX', 'BEN', 'FCX', 'GPS', 'GRMN', 'IT', 'GD', 'GE', 'GIS', 'GM', 'GPC', 'GILD', 'GL', 'GPN', 'GS', 'GWW', 'HAL', 'HBI', 'HIG', 'HAS', 'HCA', 'PEAK', 'HSIC', 'HSY', 'HES', 'HPE', 'HLT', 'HFC', 'HOLX', 'HD', 'HON', 'HRL', 'HST', 'HWM', 'HPQ', 'HUM', 'HBAN', 'HII', 'IEX', 'IDXX', 'INFO', 'ITW', 'ILMN', 'INCY', 'IR', 'INTC', 'ICE', 'IBM', 'IP', 'IPG', 'IFF', 'INTU', 'ISRG', 'IVZ', 'IPGP', 'IQV', 'IRM', 'JKHY', 'J', 'JBHT', 'SJM', 'JNJ', 'JCI', 'JPM', 'JNPR', 'KSU', 'K', 'KEY', 'KEYS', 'KMB', 'KIM', 'KMI', 'KLAC', 'KHC', 'KR', 'LB', 'LHX', 'LH', 'LRCX', 'LW', 'LVS', 'LEG', 'LDOS', 'LEN', 'LLY', 'LNC', 'LIN', 'LYV', 'LKQ', 'LMT', 'L', 'LOW', 'LUMN', 'LYB', 'MTB', 'MRO', 'MPC', 'MKTX', 'MAR', 'MMC', 'MLM', 'MAS', 'MA', 'MKC', 'MXIM', 'MCD', 'MCK', 'MDT', 'MRK', 'MET', 'MTD', 'MGM', 'MCHP', 'MU', 'MSFT', 'MAA', 'MHK', 'TAP', 'MDLZ', 'MNST', 'MCO', 'MS', 'MOS', 'MSI', 'MSCI', 'NDAQ', 'NTAP', 'NFLX', 'NWL', 'NEM', 'NWSA', 'NWS', 'NEE', 'NLSN', 'NKE', 'NI', 'NSC', 'NTRS', 'NOC', 'NLOK', 'NCLH', 'NOV', 'NRG', 'NUE', 'NVDA', 'NVR', 'ORLY', 'OXY', 'ODFL', 'OMC', 'OKE', 'ORCL', 'OTIS', 'PCAR', 'PKG', 'PH', 'PAYX', 'PAYC', 'PYPL', 'PNR', 'PBCT', 'PEP', 'PKI', 'PRGO', 'PFE', 'PM', 'PSX', 'PNW', 'PXD', 'PNC', 'POOL', 'PPG', 'PPL', 'PFG', 'PG', 'PGR', 'PLD', 'PRU', 'PEG', 'PSA', 'PHM', 'PVH', 'QRVO', 'PWR', 'QCOM', 'DGX', 'RL', 'RJF', 'RTX', 'O', 'REG', 'REGN', 'RF', 'RSG', 'RMD', 'RHI', 'ROK', 'ROL', 'ROP', 'ROST', 'RCL', 'SPGI', 'CRM', 'SBAC', 'SLB', 'STX', 'SEE', 'SRE', 'NOW', 'SHW', 'SPG', 'SWKS', 'SLG', 'SNA', 'SO', 'LUV', 'SWK', 'SBUX', 'STT', 'STE', 'SYK', 'SIVB', 'SYF', 'SNPS', 'SYY', 'TMUS', 'TROW', 'TTWO', 'TPR', 'TGT', 'TEL', 'FTI', 'TDY', 'TFX', 'TER', 'TSLA', 'TXN', 'TXT', 'TMO', 'TJX', 'TSCO', 'TT', 'TDG', 'TRV', 'TRMB', 'TFC', 'TWTR', 'TYL', 'TSN', 'UDR', 'ULTA', 'USB', 'UAA', 'UA', 'UNP', 'UAL', 'UNH', 'UPS', 'URI', 'UHS', 'UNM', 'VLO', 'VAR', 'VTR', 'VRSN', 'VRSK', 'VZ', 'VRTX', 'VFC', 'VIAC', 'VTRS', 'V', 'VNT', 'VNO', 'VMC', 'WRB', 'WAB', 'WMT', 'WBA', 'DIS', 'WM', 'WAT', 'WEC', 'WFC', 'WELL', 'WST', 'WDC', 'WU', 'WRK', 'WY', 'WHR', 'WMB', 'WLTW', 'WYNN', 'XEL', 'XRX', 'XLNX', 'XYL', 'YUM', 'ZBRA', 'ZBH', 'ZION', 'ZTS']\n"
          ],
          "name": "stdout"
        }
      ]
    },
    {
      "cell_type": "code",
      "metadata": {
        "id": "QezAwfMgAJHW"
      },
      "source": [
        "# Get information about ticker\n",
        "def get_company_information(symbol):\n",
        "  ticker = yf.Ticker(symbol)\n",
        "  return ticker.info\n",
        "\n",
        "#get_company_information(\"ZOM\")"
      ],
      "execution_count": 54,
      "outputs": []
    },
    {
      "cell_type": "code",
      "metadata": {
        "colab": {
          "base_uri": "https://localhost:8080/",
          "height": 370
        },
        "id": "EgkvpUNGx1L9",
        "outputId": "0eba346e-fb52-4672-f235-b566ed081baf"
      },
      "source": [
        "# Get data from yahoo finance\n",
        "df = yf.download(ticker[:500], start=\"2015-01-01\", end=dt.today().strftime('%Y-%m-%d'))['Close']\n",
        "# Drop all delisted tickers\n",
        "df = df.dropna(axis='columns', how='all')\n",
        "df"
      ],
      "execution_count": 97,
      "outputs": [
        {
          "output_type": "stream",
          "text": [
            "[**                     5%                       ]  23 of 500 completed"
          ],
          "name": "stdout"
        },
        {
          "output_type": "error",
          "ename": "KeyboardInterrupt",
          "evalue": "ignored",
          "traceback": [
            "\u001b[0;31m---------------------------------------------------------------------------\u001b[0m",
            "\u001b[0;31mKeyboardInterrupt\u001b[0m                         Traceback (most recent call last)",
            "\u001b[0;32m<ipython-input-97-77f83e4ce74a>\u001b[0m in \u001b[0;36m<module>\u001b[0;34m()\u001b[0m\n\u001b[1;32m      1\u001b[0m \u001b[0;31m# Get data from yahoo finance\u001b[0m\u001b[0;34m\u001b[0m\u001b[0;34m\u001b[0m\u001b[0;34m\u001b[0m\u001b[0m\n\u001b[0;32m----> 2\u001b[0;31m \u001b[0mdf\u001b[0m \u001b[0;34m=\u001b[0m \u001b[0myf\u001b[0m\u001b[0;34m.\u001b[0m\u001b[0mdownload\u001b[0m\u001b[0;34m(\u001b[0m\u001b[0mticker\u001b[0m\u001b[0;34m[\u001b[0m\u001b[0;34m:\u001b[0m\u001b[0;36m500\u001b[0m\u001b[0;34m]\u001b[0m\u001b[0;34m,\u001b[0m \u001b[0mstart\u001b[0m\u001b[0;34m=\u001b[0m\u001b[0;34m\"2015-01-01\"\u001b[0m\u001b[0;34m,\u001b[0m \u001b[0mend\u001b[0m\u001b[0;34m=\u001b[0m\u001b[0mdt\u001b[0m\u001b[0;34m.\u001b[0m\u001b[0mtoday\u001b[0m\u001b[0;34m(\u001b[0m\u001b[0;34m)\u001b[0m\u001b[0;34m.\u001b[0m\u001b[0mstrftime\u001b[0m\u001b[0;34m(\u001b[0m\u001b[0;34m'%Y-%m-%d'\u001b[0m\u001b[0;34m)\u001b[0m\u001b[0;34m)\u001b[0m\u001b[0;34m[\u001b[0m\u001b[0;34m'Close'\u001b[0m\u001b[0;34m]\u001b[0m\u001b[0;34m\u001b[0m\u001b[0;34m\u001b[0m\u001b[0m\n\u001b[0m\u001b[1;32m      3\u001b[0m \u001b[0;31m# Drop all delisted tickers\u001b[0m\u001b[0;34m\u001b[0m\u001b[0;34m\u001b[0m\u001b[0;34m\u001b[0m\u001b[0m\n\u001b[1;32m      4\u001b[0m \u001b[0mdf\u001b[0m \u001b[0;34m=\u001b[0m \u001b[0mdf\u001b[0m\u001b[0;34m.\u001b[0m\u001b[0mdropna\u001b[0m\u001b[0;34m(\u001b[0m\u001b[0maxis\u001b[0m\u001b[0;34m=\u001b[0m\u001b[0;34m'columns'\u001b[0m\u001b[0;34m,\u001b[0m \u001b[0mhow\u001b[0m\u001b[0;34m=\u001b[0m\u001b[0;34m'all'\u001b[0m\u001b[0;34m)\u001b[0m\u001b[0;34m\u001b[0m\u001b[0;34m\u001b[0m\u001b[0m\n\u001b[1;32m      5\u001b[0m \u001b[0mdf\u001b[0m\u001b[0;34m\u001b[0m\u001b[0;34m\u001b[0m\u001b[0m\n",
            "\u001b[0;32m/usr/local/lib/python3.6/dist-packages/yfinance/multi.py\u001b[0m in \u001b[0;36mdownload\u001b[0;34m(tickers, start, end, actions, threads, group_by, auto_adjust, back_adjust, progress, period, interval, prepost, proxy, rounding, **kwargs)\u001b[0m\n\u001b[1;32m     93\u001b[0m                                    rounding=rounding)\n\u001b[1;32m     94\u001b[0m         \u001b[0;32mwhile\u001b[0m \u001b[0mlen\u001b[0m\u001b[0;34m(\u001b[0m\u001b[0mshared\u001b[0m\u001b[0;34m.\u001b[0m\u001b[0m_DFS\u001b[0m\u001b[0;34m)\u001b[0m \u001b[0;34m<\u001b[0m \u001b[0mlen\u001b[0m\u001b[0;34m(\u001b[0m\u001b[0mtickers\u001b[0m\u001b[0;34m)\u001b[0m\u001b[0;34m:\u001b[0m\u001b[0;34m\u001b[0m\u001b[0;34m\u001b[0m\u001b[0m\n\u001b[0;32m---> 95\u001b[0;31m             \u001b[0m_time\u001b[0m\u001b[0;34m.\u001b[0m\u001b[0msleep\u001b[0m\u001b[0;34m(\u001b[0m\u001b[0;36m0.01\u001b[0m\u001b[0;34m)\u001b[0m\u001b[0;34m\u001b[0m\u001b[0;34m\u001b[0m\u001b[0m\n\u001b[0m\u001b[1;32m     96\u001b[0m \u001b[0;34m\u001b[0m\u001b[0m\n\u001b[1;32m     97\u001b[0m     \u001b[0;31m# download synchronously\u001b[0m\u001b[0;34m\u001b[0m\u001b[0;34m\u001b[0m\u001b[0;34m\u001b[0m\u001b[0m\n",
            "\u001b[0;31mKeyboardInterrupt\u001b[0m: "
          ]
        }
      ]
    },
    {
      "cell_type": "code",
      "metadata": {
        "id": "0DiEKG2K1J2a"
      },
      "source": [
        "# Calculate MacD, simply for displaying\n",
        "exp1 = df.ewm(span=12, adjust=False).mean()\n",
        "exp2 = df.ewm(span=26, adjust=False).mean()\n",
        "macd = exp1 - exp2\n",
        "exp3 = macd.ewm(span=9, adjust=False).mean()\n",
        "macd.plot(label='AAPL MACD', color='g')\n",
        "ax = exp3.plot(label='Signal Line', color='r')\n",
        "df.plot(ax=ax, secondary_y=True, label='AAPL')"
      ],
      "execution_count": null,
      "outputs": []
    },
    {
      "cell_type": "markdown",
      "metadata": {
        "id": "jSDsxREDKU3h"
      },
      "source": [
        "The Parts above is to input your portfolio\n",
        "\n",
        "The parts below is to optimize portfolio"
      ]
    },
    {
      "cell_type": "code",
      "metadata": {
        "id": "0B0DU_ze4cFJ"
      },
      "source": [
        "# Optimize the portfolio\n",
        "from pypfopt.efficient_frontier import EfficientFrontier\n",
        "from pypfopt import risk_models\n",
        "from pypfopt import expected_returns"
      ],
      "execution_count": 43,
      "outputs": []
    },
    {
      "cell_type": "code",
      "metadata": {
        "colab": {
          "base_uri": "https://localhost:8080/"
        },
        "id": "4wOg1wQX4oQq",
        "outputId": "fad53718-3457-4018-bfe1-4862582481db"
      },
      "source": [
        "# Calculate the expected annualized returns and the annualized sample covariance matrix of the daily asset returns\n",
        "mu = expected_returns.mean_historical_return(df)\n",
        "S = risk_models.sample_cov(df)\n",
        "\n",
        "# Optimize for the maximal Sharpe ratio\n",
        "ef = EfficientFrontier(mu, S) # Create the Efficient Frontier Object\n",
        "weights = ef.max_sharpe()\n",
        "clean_weights = ef.clean_weights()\n",
        "print(clean_weights)\n",
        "ef.portfolio_performance(verbose=True)"
      ],
      "execution_count": 95,
      "outputs": [
        {
          "output_type": "stream",
          "text": [
            "OrderedDict([('CRM', 0.0), ('DIS', 0.0), ('FTI', 0.0), ('LUV', 0.0), ('NOW', 0.0), ('RCL', 0.0), ('ROP', 0.0), ('ROST', 0.0), ('SBAC', 0.0), ('SBUX', 0.0), ('SEE', 0.0), ('SHW', 0.0), ('SIVB', 0.0), ('SLB', 0.0), ('SLG', 0.0), ('SNA', 0.0), ('SNPS', 0.09757), ('SO', 0.0), ('SPG', 0.0), ('SPGI', 0.0), ('SRE', 0.0), ('STE', 0.0), ('STT', 0.0), ('STX', 0.0), ('SWK', 0.0), ('SWKS', 0.0), ('SYF', 0.0), ('SYK', 0.0), ('SYY', 0.0), ('TDG', 0.0), ('TDY', 0.0), ('TEL', 0.0), ('TER', 0.0), ('TFC', 0.0), ('TFX', 0.0), ('TGT', 0.0), ('TJX', 0.0), ('TMO', 0.0), ('TMUS', 0.08362), ('TPR', 0.0), ('TRMB', 0.0), ('TROW', 0.0), ('TRV', 0.0), ('TSCO', 0.0), ('TSLA', 0.0), ('TSN', 0.0), ('TT', 0.0), ('TTWO', 0.05009), ('TWTR', 0.0), ('TXN', 0.0), ('TXT', 0.0), ('TYL', 0.08445), ('UA', 0.0), ('UAA', 0.0), ('UAL', 0.0), ('UDR', 0.0), ('UHS', 0.0), ('ULTA', 0.0), ('UNH', 0.0), ('UNM', 0.0), ('UNP', 0.0), ('UPS', 0.0), ('URI', 0.0), ('USB', 0.0), ('V', 0.0), ('VAR', 0.0), ('VFC', 0.0), ('VIAC', 0.0), ('VLO', 0.0), ('VMC', 0.0), ('VNO', 0.0), ('VNT', 0.49035), ('VRSK', 0.0), ('VRSN', 0.0), ('VRTX', 0.0), ('VTR', 0.0), ('VTRS', 0.0), ('VZ', 0.0), ('WAB', 0.0), ('WAT', 0.0), ('WBA', 0.0), ('WDC', 0.0), ('WEC', 0.0), ('WELL', 0.0), ('WFC', 0.0), ('WHR', 0.0), ('WLTW', 0.0), ('WM', 0.0), ('WMB', 0.0), ('WMT', 0.0), ('WRB', 0.0), ('WRK', 0.0), ('WST', 0.19392), ('WU', 0.0), ('WY', 0.0), ('WYNN', 0.0), ('XEL', 0.0), ('XLNX', 0.0), ('XRX', 0.0), ('XYL', 0.0), ('YUM', 0.0), ('ZBH', 0.0), ('ZBRA', 0.0), ('ZION', 0.0), ('ZTS', 0.0)])\n",
            "Expected annual return: 52.4%\n",
            "Annual volatility: 19.9%\n",
            "Sharpe Ratio: 2.54\n"
          ],
          "name": "stdout"
        },
        {
          "output_type": "stream",
          "text": [
            "/usr/local/lib/python3.6/dist-packages/pypfopt/risk_models.py:69: UserWarning: The covariance matrix is non positive semidefinite. Amending eigenvalues.\n",
            "  \"The covariance matrix is non positive semidefinite. Amending eigenvalues.\"\n",
            "/usr/local/lib/python3.6/dist-packages/pypfopt/risk_models.py:87: UserWarning: Could not fix matrix. Please try a different risk model.\n",
            "  warnings.warn(\"Could not fix matrix. Please try a different risk model.\")\n"
          ],
          "name": "stderr"
        },
        {
          "output_type": "execute_result",
          "data": {
            "text/plain": [
              "(0.5239144241633047, 0.1987465265315695, 2.5354627975511383)"
            ]
          },
          "metadata": {
            "tags": []
          },
          "execution_count": 95
        }
      ]
    },
    {
      "cell_type": "code",
      "metadata": {
        "colab": {
          "base_uri": "https://localhost:8080/"
        },
        "id": "UqlNYvNy67-5",
        "outputId": "86176403-0549-4c12-c244-3eb4737b89c8"
      },
      "source": [
        "# Get the discrete allocation of each share per stock\n",
        "from pypfopt.discrete_allocation import DiscreteAllocation, get_latest_prices\n",
        "\n",
        "porfolio_val = 20000\n",
        "latest_prices = get_latest_prices(df)\n",
        "da = DiscreteAllocation(clean_weights, latest_prices, porfolio_val)\n",
        "allocation, leftover = da.lp_portfolio()\n",
        "print(f\"Discrete Allocation: {allocation}\\nFunds Remaining: {leftover}\")"
      ],
      "execution_count": 89,
      "outputs": [
        {
          "output_type": "stream",
          "text": [
            "Discrete Allocation: {'AMD': 16, 'AMZN': 1, 'ATVI': 7, 'CARR': 221, 'CLX': 15, 'DPZ': 9}\n",
            "Funds Remaining: 0.340240478515625\n"
          ],
          "name": "stdout"
        }
      ]
    },
    {
      "cell_type": "code",
      "metadata": {
        "id": "SWKur4gUF0yI"
      },
      "source": [
        "# Save information to print\n",
        "company_name = []\n",
        "industry = []\n",
        "share_price = []\n",
        "total_price = []\n",
        "\n",
        "for symbol in allocation:\n",
        "    info = get_company_information(symbol)\n",
        "    company_name.append(info['longName'])\n",
        "    industry.append(info['industry'])\n",
        "    share_price.append(info['regularMarketPrice'])\n",
        "    total_price.append(\"${:.2f}\".format(info['regularMarketPrice'] * allocation[symbol]))"
      ],
      "execution_count": 80,
      "outputs": []
    },
    {
      "cell_type": "code",
      "metadata": {
        "colab": {
          "base_uri": "https://localhost:8080/",
          "height": 162
        },
        "id": "ArSj7elA_bva",
        "outputId": "871b0005-87b0-4b49-ce56-912acef00eae"
      },
      "source": [
        "# Print the final guestimation of what to buy\n",
        "portfolio_df = pd.DataFrame(columns=[\"Ticker\", \"Name\", \"Allocation\", \"Price/Share\", \"Total\", \"Industry\"])\n",
        "portfolio_df[\"Ticker\"] = allocation.keys()\n",
        "portfolio_df[\"Name\"] = company_name\n",
        "portfolio_df[\"Allocation\"] = allocation.values()\n",
        "portfolio_df[\"Price/Share\"] = share_price\n",
        "portfolio_df[\"Total\"] = total_price\n",
        "portfolio_df[\"Industry\"] = industry\n",
        "portfolio_df"
      ],
      "execution_count": 81,
      "outputs": [
        {
          "output_type": "execute_result",
          "data": {
            "text/html": [
              "<div>\n",
              "<style scoped>\n",
              "    .dataframe tbody tr th:only-of-type {\n",
              "        vertical-align: middle;\n",
              "    }\n",
              "\n",
              "    .dataframe tbody tr th {\n",
              "        vertical-align: top;\n",
              "    }\n",
              "\n",
              "    .dataframe thead th {\n",
              "        text-align: right;\n",
              "    }\n",
              "</style>\n",
              "<table border=\"1\" class=\"dataframe\">\n",
              "  <thead>\n",
              "    <tr style=\"text-align: right;\">\n",
              "      <th></th>\n",
              "      <th>Ticker</th>\n",
              "      <th>Name</th>\n",
              "      <th>Allocation</th>\n",
              "      <th>Price/Share</th>\n",
              "      <th>Total</th>\n",
              "      <th>Industry</th>\n",
              "    </tr>\n",
              "  </thead>\n",
              "  <tbody>\n",
              "    <tr>\n",
              "      <th>0</th>\n",
              "      <td>AMD</td>\n",
              "      <td>Advanced Micro Devices, Inc.</td>\n",
              "      <td>27</td>\n",
              "      <td>92.75</td>\n",
              "      <td>$2504.25</td>\n",
              "      <td>Semiconductors</td>\n",
              "    </tr>\n",
              "    <tr>\n",
              "      <th>1</th>\n",
              "      <td>AMZN</td>\n",
              "      <td>Amazon.com, Inc.</td>\n",
              "      <td>1</td>\n",
              "      <td>3250.00</td>\n",
              "      <td>$3250.00</td>\n",
              "      <td>Internet Retail</td>\n",
              "    </tr>\n",
              "    <tr>\n",
              "      <th>2</th>\n",
              "      <td>ATVI</td>\n",
              "      <td>Activision Blizzard, Inc.</td>\n",
              "      <td>22</td>\n",
              "      <td>102.78</td>\n",
              "      <td>$2261.16</td>\n",
              "      <td>Electronic Gaming &amp; Multimedia</td>\n",
              "    </tr>\n",
              "    <tr>\n",
              "      <th>3</th>\n",
              "      <td>CARR</td>\n",
              "      <td>Carrier Global Corporation</td>\n",
              "      <td>303</td>\n",
              "      <td>37.00</td>\n",
              "      <td>$11211.00</td>\n",
              "      <td>Building Products &amp; Equipment</td>\n",
              "    </tr>\n",
              "  </tbody>\n",
              "</table>\n",
              "</div>"
            ],
            "text/plain": [
              "  Ticker  ...                        Industry\n",
              "0    AMD  ...                  Semiconductors\n",
              "1   AMZN  ...                 Internet Retail\n",
              "2   ATVI  ...  Electronic Gaming & Multimedia\n",
              "3   CARR  ...   Building Products & Equipment\n",
              "\n",
              "[4 rows x 6 columns]"
            ]
          },
          "metadata": {
            "tags": []
          },
          "execution_count": 81
        }
      ]
    }
  ]
}