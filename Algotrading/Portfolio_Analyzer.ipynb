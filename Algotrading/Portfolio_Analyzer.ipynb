{
  "nbformat": 4,
  "nbformat_minor": 0,
  "metadata": {
    "colab": {
      "name": "Portfolio_Analyzer.ipynb",
      "provenance": [],
      "collapsed_sections": [],
      "authorship_tag": "ABX9TyO4DJ9doMebbi44z+tqUGN6",
      "include_colab_link": true
    },
    "kernelspec": {
      "name": "python3",
      "display_name": "Python 3"
    }
  },
  "cells": [
    {
      "cell_type": "markdown",
      "metadata": {
        "id": "view-in-github",
        "colab_type": "text"
      },
      "source": [
        "<a href=\"https://colab.research.google.com/github/kriskirla/AllProjects/blob/master/Algotrading/Portfolio_Analyzer.ipynb\" target=\"_parent\"><img src=\"https://colab.research.google.com/assets/colab-badge.svg\" alt=\"Open In Colab\"/></a>"
      ]
    },
    {
      "cell_type": "code",
      "metadata": {
        "id": "44ExqPysmcit"
      },
      "source": [
        "#Description: Analyze my portfolio"
      ],
      "execution_count": null,
      "outputs": []
    },
    {
      "cell_type": "code",
      "metadata": {
        "id": "xazgORaI4I6n"
      },
      "source": [
        "pip install PyPortfolioOpt\n",
        "pip install pulp"
      ],
      "execution_count": null,
      "outputs": []
    },
    {
      "cell_type": "code",
      "metadata": {
        "id": "2Xn8KCXsmt-Q"
      },
      "source": [
        "# Import libraries \n",
        "import pandas_datareader as web\n",
        "import pandas as pd\n",
        "import numpy as np\n",
        "import requests\n",
        "import yfinance as yf\n",
        "import matplotlib.pyplot as plt\n",
        "from datetime import datetime as dt"
      ],
      "execution_count": null,
      "outputs": []
    },
    {
      "cell_type": "code",
      "metadata": {
        "id": "J64ZMw75yp7N"
      },
      "source": [
        "# Tickers to track (UPDATE THIS TO REFLECT)\n",
        "ticker = [\"ARKG\", \"ARKK\", \"AAPL\", \"AMD\", \"GME\", \"LSPD\", \"NIO\", \"ZOM\"]"
      ],
      "execution_count": null,
      "outputs": []
    },
    {
      "cell_type": "code",
      "metadata": {
        "id": "QezAwfMgAJHW"
      },
      "source": [
        "# Get information about ticker\n",
        "def get_company_information(symbol):\n",
        "  ticker = yf.Ticker(symbol)\n",
        "  return ticker.info"
      ],
      "execution_count": null,
      "outputs": []
    },
    {
      "cell_type": "code",
      "metadata": {
        "colab": {
          "base_uri": "https://localhost:8080/",
          "height": 420
        },
        "id": "EgkvpUNGx1L9",
        "outputId": "bc535401-9395-4a8a-9af8-b95217eb5ded"
      },
      "source": [
        "# Get data from yahoo finance\n",
        "df = web.DataReader(ticker, 'yahoo', start=\"2015-01-01\", end=dt.today().strftime('%Y-%m-%d'))['Close']\n",
        "df"
      ],
      "execution_count": null,
      "outputs": [
        {
          "output_type": "execute_result",
          "data": {
            "text/html": [
              "<div>\n",
              "<style scoped>\n",
              "    .dataframe tbody tr th:only-of-type {\n",
              "        vertical-align: middle;\n",
              "    }\n",
              "\n",
              "    .dataframe tbody tr th {\n",
              "        vertical-align: top;\n",
              "    }\n",
              "\n",
              "    .dataframe thead th {\n",
              "        text-align: right;\n",
              "    }\n",
              "</style>\n",
              "<table border=\"1\" class=\"dataframe\">\n",
              "  <thead>\n",
              "    <tr style=\"text-align: right;\">\n",
              "      <th>Symbols</th>\n",
              "      <th>ARKG</th>\n",
              "      <th>ARKK</th>\n",
              "      <th>AAPL</th>\n",
              "      <th>AMD</th>\n",
              "      <th>GME</th>\n",
              "      <th>LSPD</th>\n",
              "      <th>NIO</th>\n",
              "      <th>ZOM</th>\n",
              "    </tr>\n",
              "    <tr>\n",
              "      <th>Date</th>\n",
              "      <th></th>\n",
              "      <th></th>\n",
              "      <th></th>\n",
              "      <th></th>\n",
              "      <th></th>\n",
              "      <th></th>\n",
              "      <th></th>\n",
              "      <th></th>\n",
              "    </tr>\n",
              "  </thead>\n",
              "  <tbody>\n",
              "    <tr>\n",
              "      <th>2015-01-02</th>\n",
              "      <td>NaN</td>\n",
              "      <td>20.170000</td>\n",
              "      <td>27.332500</td>\n",
              "      <td>2.670000</td>\n",
              "      <td>33.799999</td>\n",
              "      <td>NaN</td>\n",
              "      <td>NaN</td>\n",
              "      <td>NaN</td>\n",
              "    </tr>\n",
              "    <tr>\n",
              "      <th>2015-01-05</th>\n",
              "      <td>NaN</td>\n",
              "      <td>19.684000</td>\n",
              "      <td>26.562500</td>\n",
              "      <td>2.660000</td>\n",
              "      <td>34.720001</td>\n",
              "      <td>NaN</td>\n",
              "      <td>NaN</td>\n",
              "      <td>NaN</td>\n",
              "    </tr>\n",
              "    <tr>\n",
              "      <th>2015-01-06</th>\n",
              "      <td>NaN</td>\n",
              "      <td>19.610001</td>\n",
              "      <td>26.565001</td>\n",
              "      <td>2.630000</td>\n",
              "      <td>33.689999</td>\n",
              "      <td>NaN</td>\n",
              "      <td>NaN</td>\n",
              "      <td>NaN</td>\n",
              "    </tr>\n",
              "    <tr>\n",
              "      <th>2015-01-07</th>\n",
              "      <td>NaN</td>\n",
              "      <td>19.700001</td>\n",
              "      <td>26.937500</td>\n",
              "      <td>2.580000</td>\n",
              "      <td>33.299999</td>\n",
              "      <td>NaN</td>\n",
              "      <td>NaN</td>\n",
              "      <td>NaN</td>\n",
              "    </tr>\n",
              "    <tr>\n",
              "      <th>2015-01-08</th>\n",
              "      <td>NaN</td>\n",
              "      <td>20.139999</td>\n",
              "      <td>27.972500</td>\n",
              "      <td>2.610000</td>\n",
              "      <td>33.689999</td>\n",
              "      <td>NaN</td>\n",
              "      <td>NaN</td>\n",
              "      <td>NaN</td>\n",
              "    </tr>\n",
              "    <tr>\n",
              "      <th>...</th>\n",
              "      <td>...</td>\n",
              "      <td>...</td>\n",
              "      <td>...</td>\n",
              "      <td>...</td>\n",
              "      <td>...</td>\n",
              "      <td>...</td>\n",
              "      <td>...</td>\n",
              "      <td>...</td>\n",
              "    </tr>\n",
              "    <tr>\n",
              "      <th>2021-02-08</th>\n",
              "      <td>112.230003</td>\n",
              "      <td>153.309998</td>\n",
              "      <td>136.910004</td>\n",
              "      <td>91.470001</td>\n",
              "      <td>60.000000</td>\n",
              "      <td>72.010002</td>\n",
              "      <td>59.070000</td>\n",
              "      <td>2.70</td>\n",
              "    </tr>\n",
              "    <tr>\n",
              "      <th>2021-02-09</th>\n",
              "      <td>112.010002</td>\n",
              "      <td>154.929993</td>\n",
              "      <td>136.009995</td>\n",
              "      <td>90.910004</td>\n",
              "      <td>50.310001</td>\n",
              "      <td>72.800003</td>\n",
              "      <td>62.840000</td>\n",
              "      <td>2.32</td>\n",
              "    </tr>\n",
              "    <tr>\n",
              "      <th>2021-02-10</th>\n",
              "      <td>110.580002</td>\n",
              "      <td>153.100006</td>\n",
              "      <td>135.389999</td>\n",
              "      <td>92.349998</td>\n",
              "      <td>51.200001</td>\n",
              "      <td>71.300003</td>\n",
              "      <td>61.259998</td>\n",
              "      <td>2.55</td>\n",
              "    </tr>\n",
              "    <tr>\n",
              "      <th>2021-02-11</th>\n",
              "      <td>110.959999</td>\n",
              "      <td>154.570007</td>\n",
              "      <td>135.130005</td>\n",
              "      <td>92.660004</td>\n",
              "      <td>51.099998</td>\n",
              "      <td>73.400002</td>\n",
              "      <td>60.270000</td>\n",
              "      <td>2.66</td>\n",
              "    </tr>\n",
              "    <tr>\n",
              "      <th>2021-02-12</th>\n",
              "      <td>112.010002</td>\n",
              "      <td>156.580002</td>\n",
              "      <td>135.369995</td>\n",
              "      <td>93.769997</td>\n",
              "      <td>52.400002</td>\n",
              "      <td>73.019997</td>\n",
              "      <td>59.849998</td>\n",
              "      <td>2.57</td>\n",
              "    </tr>\n",
              "  </tbody>\n",
              "</table>\n",
              "<p>1540 rows × 8 columns</p>\n",
              "</div>"
            ],
            "text/plain": [
              "Symbols           ARKG        ARKK        AAPL  ...       LSPD        NIO   ZOM\n",
              "Date                                            ...                            \n",
              "2015-01-02 NaN          20.170000   27.332500   ... NaN        NaN        NaN  \n",
              "2015-01-05 NaN          19.684000   26.562500   ... NaN        NaN        NaN  \n",
              "2015-01-06 NaN          19.610001   26.565001   ... NaN        NaN        NaN  \n",
              "2015-01-07 NaN          19.700001   26.937500   ... NaN        NaN        NaN  \n",
              "2015-01-08 NaN          20.139999   27.972500   ... NaN        NaN        NaN  \n",
              "...         ..                ...         ...   ...  ..         ..         ..  \n",
              "2021-02-08  112.230003  153.309998  136.910004  ...  72.010002  59.070000  2.70\n",
              "2021-02-09  112.010002  154.929993  136.009995  ...  72.800003  62.840000  2.32\n",
              "2021-02-10  110.580002  153.100006  135.389999  ...  71.300003  61.259998  2.55\n",
              "2021-02-11  110.959999  154.570007  135.130005  ...  73.400002  60.270000  2.66\n",
              "2021-02-12  112.010002  156.580002  135.369995  ...  73.019997  59.849998  2.57\n",
              "\n",
              "[1540 rows x 8 columns]"
            ]
          },
          "metadata": {
            "tags": []
          },
          "execution_count": 224
        }
      ]
    },
    {
      "cell_type": "code",
      "metadata": {
        "id": "0DiEKG2K1J2a"
      },
      "source": [
        "# Calculate MacD, simply for displaying\n",
        "exp1 = df.ewm(span=12, adjust=False).mean()\n",
        "exp2 = df.ewm(span=26, adjust=False).mean()\n",
        "macd = exp1 - exp2\n",
        "exp3 = macd.ewm(span=9, adjust=False).mean()\n",
        "macd.plot(label='AAPL MACD', color='g')\n",
        "ax = exp3.plot(label='Signal Line', color='r')\n",
        "df.plot(ax=ax, secondary_y=True, label='AAPL')"
      ],
      "execution_count": null,
      "outputs": []
    },
    {
      "cell_type": "markdown",
      "metadata": {
        "id": "jSDsxREDKU3h"
      },
      "source": [
        "The Parts above is to pull the holdings from S&P500\n",
        "\n",
        "The parts below is to optimize portfolio"
      ]
    },
    {
      "cell_type": "code",
      "metadata": {
        "id": "0B0DU_ze4cFJ"
      },
      "source": [
        "# Optimize the portfolio\n",
        "from pypfopt.efficient_frontier import EfficientFrontier\n",
        "from pypfopt import risk_models\n",
        "from pypfopt import expected_returns"
      ],
      "execution_count": null,
      "outputs": []
    },
    {
      "cell_type": "code",
      "metadata": {
        "colab": {
          "base_uri": "https://localhost:8080/"
        },
        "id": "4wOg1wQX4oQq",
        "outputId": "f21c8afb-d502-4e61-9639-dfa05500ac24"
      },
      "source": [
        "# Calculate the expected annualized returns and the annualized sample covariance matrix of the daily asset returns\n",
        "mu = expected_returns.mean_historical_return(df)\n",
        "S = risk_models.sample_cov(df)\n",
        "\n",
        "# Optimize for the maximal Sharpe ratio\n",
        "ef = EfficientFrontier(mu, S) # Create the Efficient Frontier Object\n",
        "weights = ef.max_sharpe()\n",
        "clean_weights = ef.clean_weights()\n",
        "print(clean_weights)\n",
        "ef.portfolio_performance(verbose=True)"
      ],
      "execution_count": null,
      "outputs": [
        {
          "output_type": "stream",
          "text": [
            "OrderedDict([('ARKG', 0.0), ('ARKK', 0.0), ('AAPL', 0.0), ('AMD', 0.0), ('GME', 0.13275), ('LSPD', 0.85547), ('NIO', 0.0), ('ZOM', 0.01177)])\n",
            "Expected annual return: 610.6%\n",
            "Annual volatility: 51.2%\n",
            "Sharpe Ratio: 11.89\n"
          ],
          "name": "stdout"
        },
        {
          "output_type": "stream",
          "text": [
            "/usr/local/lib/python3.6/dist-packages/pypfopt/risk_models.py:69: UserWarning: The covariance matrix is non positive semidefinite. Amending eigenvalues.\n",
            "  \"The covariance matrix is non positive semidefinite. Amending eigenvalues.\"\n"
          ],
          "name": "stderr"
        },
        {
          "output_type": "execute_result",
          "data": {
            "text/plain": [
              "(6.105898600717075, 0.5120267336058721, 11.885900093258881)"
            ]
          },
          "metadata": {
            "tags": []
          },
          "execution_count": 226
        }
      ]
    },
    {
      "cell_type": "code",
      "metadata": {
        "colab": {
          "base_uri": "https://localhost:8080/"
        },
        "id": "UqlNYvNy67-5",
        "outputId": "521c5969-b34e-4758-b100-370c5d67528f"
      },
      "source": [
        "# Get the discrete allocation of each share per stock\n",
        "from pypfopt.discrete_allocation import DiscreteAllocation, get_latest_prices\n",
        "\n",
        "porfolio_val = 20000\n",
        "latest_prices = get_latest_prices(df)\n",
        "da = DiscreteAllocation(clean_weights, latest_prices, porfolio_val)\n",
        "allocation, leftover = da.lp_portfolio()\n",
        "print(f\"Discrete Allocation: {allocation}\\nFunds Remaining: {leftover}\")"
      ],
      "execution_count": null,
      "outputs": [
        {
          "output_type": "stream",
          "text": [
            "Discrete Allocation: {'GME': 51, 'LSPD': 234, 'ZOM': 92}\n",
            "Funds Remaining: 4.480713844299316\n"
          ],
          "name": "stdout"
        }
      ]
    },
    {
      "cell_type": "code",
      "metadata": {
        "id": "SWKur4gUF0yI"
      },
      "source": [
        "# Save information to print\n",
        "company_name = []\n",
        "industry = []\n",
        "share_price = []\n",
        "total_price = []\n",
        "\n",
        "for symbol in allocation:\n",
        "    info = get_company_information(symbol)\n",
        "    company_name.append(info['longName'])\n",
        "    industry.append(info['industry'])\n",
        "    share_price.append(info['ask'])\n",
        "    total_price.append(f\"${info['ask'] * allocation[symbol]}\")"
      ],
      "execution_count": null,
      "outputs": []
    },
    {
      "cell_type": "code",
      "metadata": {
        "colab": {
          "base_uri": "https://localhost:8080/",
          "height": 133
        },
        "id": "ArSj7elA_bva",
        "outputId": "e6bede3d-f924-4fae-b503-5a1bb81f28f0"
      },
      "source": [
        "# Print the final guestimation of what to buy\n",
        "portfolio_df = pd.DataFrame(columns=[\"Ticker\", \"Name\", \"Allocation\", \"Price/Share\", \"Total\", \"Industry\"])\n",
        "portfolio_df[\"Ticker\"] = allocation.keys()\n",
        "portfolio_df[\"Name\"] = company_name\n",
        "portfolio_df[\"Allocation\"] = allocation.values()\n",
        "portfolio_df[\"Price/Share\"] = share_price\n",
        "portfolio_df[\"Total\"] = total_price\n",
        "portfolio_df[\"Industry\"] = industry\n",
        "portfolio_df"
      ],
      "execution_count": null,
      "outputs": [
        {
          "output_type": "execute_result",
          "data": {
            "text/html": [
              "<div>\n",
              "<style scoped>\n",
              "    .dataframe tbody tr th:only-of-type {\n",
              "        vertical-align: middle;\n",
              "    }\n",
              "\n",
              "    .dataframe tbody tr th {\n",
              "        vertical-align: top;\n",
              "    }\n",
              "\n",
              "    .dataframe thead th {\n",
              "        text-align: right;\n",
              "    }\n",
              "</style>\n",
              "<table border=\"1\" class=\"dataframe\">\n",
              "  <thead>\n",
              "    <tr style=\"text-align: right;\">\n",
              "      <th></th>\n",
              "      <th>Ticker</th>\n",
              "      <th>Name</th>\n",
              "      <th>Allocation</th>\n",
              "      <th>Price/Share</th>\n",
              "      <th>Total</th>\n",
              "      <th>Industry</th>\n",
              "    </tr>\n",
              "  </thead>\n",
              "  <tbody>\n",
              "    <tr>\n",
              "      <th>0</th>\n",
              "      <td>GME</td>\n",
              "      <td>GameStop Corp.</td>\n",
              "      <td>51</td>\n",
              "      <td>52.92</td>\n",
              "      <td>$2698.92</td>\n",
              "      <td>Specialty Retail</td>\n",
              "    </tr>\n",
              "    <tr>\n",
              "      <th>1</th>\n",
              "      <td>LSPD</td>\n",
              "      <td>Lightspeed POS Inc.</td>\n",
              "      <td>234</td>\n",
              "      <td>73.80</td>\n",
              "      <td>$17269.2</td>\n",
              "      <td>Software—Application</td>\n",
              "    </tr>\n",
              "    <tr>\n",
              "      <th>2</th>\n",
              "      <td>ZOM</td>\n",
              "      <td>Zomedica Corp.</td>\n",
              "      <td>92</td>\n",
              "      <td>2.57</td>\n",
              "      <td>$236.44</td>\n",
              "      <td>Drug Manufacturers—Specialty &amp; Generic</td>\n",
              "    </tr>\n",
              "  </tbody>\n",
              "</table>\n",
              "</div>"
            ],
            "text/plain": [
              "  Ticker                 Name  ...     Total                                Industry\n",
              "0  GME    GameStop Corp.       ...  $2698.92  Specialty Retail                      \n",
              "1  LSPD   Lightspeed POS Inc.  ...  $17269.2  Software—Application                  \n",
              "2  ZOM    Zomedica Corp.       ...  $236.44   Drug Manufacturers—Specialty & Generic\n",
              "\n",
              "[3 rows x 6 columns]"
            ]
          },
          "metadata": {
            "tags": []
          },
          "execution_count": 232
        }
      ]
    }
  ]
}