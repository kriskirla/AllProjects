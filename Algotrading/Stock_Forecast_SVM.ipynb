{
  "nbformat": 4,
  "nbformat_minor": 0,
  "metadata": {
    "colab": {
      "name": "Stock_Forecast_SVM.ipynb",
      "provenance": [],
      "collapsed_sections": [],
      "authorship_tag": "ABX9TyOMT624mM9XdFHxKAiErF9u",
      "include_colab_link": true
    },
    "kernelspec": {
      "name": "python3",
      "display_name": "Python 3"
    }
  },
  "cells": [
    {
      "cell_type": "markdown",
      "metadata": {
        "id": "view-in-github",
        "colab_type": "text"
      },
      "source": [
        "<a href=\"https://colab.research.google.com/github/kriskirla/AllProjects/blob/master/Algotrading/Stock_Forecast_SVM.ipynb\" target=\"_parent\"><img src=\"https://colab.research.google.com/assets/colab-badge.svg\" alt=\"Open In Colab\"/></a>"
      ]
    },
    {
      "cell_type": "code",
      "metadata": {
        "id": "m6db4V6epb6m"
      },
      "source": [
        "# Description: This program will predict the stock for a specific day using ML"
      ],
      "execution_count": null,
      "outputs": []
    },
    {
      "cell_type": "code",
      "metadata": {
        "id": "m2Xn1ziTqf9G"
      },
      "source": [
        "!pip install yfinance"
      ],
      "execution_count": null,
      "outputs": []
    },
    {
      "cell_type": "code",
      "metadata": {
        "id": "ncucLhBnplHj"
      },
      "source": [
        "# Import libaries\n",
        "from sklearn.svm import SVR\n",
        "import yfinance as yf\n",
        "import numpy as np\n",
        "import pandas as pd\n",
        "from datetime import datetime as dt\n",
        "import matplotlib.pyplot as plt\n",
        "plt.style.use('fivethirtyeight')"
      ],
      "execution_count": 4,
      "outputs": []
    },
    {
      "cell_type": "code",
      "metadata": {
        "id": "Hqt2WZ_TqZBu",
        "colab": {
          "base_uri": "https://localhost:8080/",
          "height": 380
        },
        "outputId": "706e112d-a728-4ed6-a347-5815a2ae5bed"
      },
      "source": [
        "ticker = \"CARR\";\n",
        "\n",
        "# Get data from yahoo finance\n",
        "df = yf.download(ticker, start=\"2021-02-01\", end=dt.today().strftime('%Y-%m-%d'))\n",
        "df"
      ],
      "execution_count": 8,
      "outputs": [
        {
          "output_type": "stream",
          "text": [
            "\r[*********************100%***********************]  1 of 1 completed\n"
          ],
          "name": "stdout"
        },
        {
          "output_type": "execute_result",
          "data": {
            "text/html": [
              "<div>\n",
              "<style scoped>\n",
              "    .dataframe tbody tr th:only-of-type {\n",
              "        vertical-align: middle;\n",
              "    }\n",
              "\n",
              "    .dataframe tbody tr th {\n",
              "        vertical-align: top;\n",
              "    }\n",
              "\n",
              "    .dataframe thead th {\n",
              "        text-align: right;\n",
              "    }\n",
              "</style>\n",
              "<table border=\"1\" class=\"dataframe\">\n",
              "  <thead>\n",
              "    <tr style=\"text-align: right;\">\n",
              "      <th></th>\n",
              "      <th>Open</th>\n",
              "      <th>High</th>\n",
              "      <th>Low</th>\n",
              "      <th>Close</th>\n",
              "      <th>Adj Close</th>\n",
              "      <th>Volume</th>\n",
              "    </tr>\n",
              "    <tr>\n",
              "      <th>Date</th>\n",
              "      <th></th>\n",
              "      <th></th>\n",
              "      <th></th>\n",
              "      <th></th>\n",
              "      <th></th>\n",
              "      <th></th>\n",
              "    </tr>\n",
              "  </thead>\n",
              "  <tbody>\n",
              "    <tr>\n",
              "      <th>2021-02-01</th>\n",
              "      <td>39.200001</td>\n",
              "      <td>39.450001</td>\n",
              "      <td>38.549999</td>\n",
              "      <td>38.660000</td>\n",
              "      <td>38.660000</td>\n",
              "      <td>4731700</td>\n",
              "    </tr>\n",
              "    <tr>\n",
              "      <th>2021-02-02</th>\n",
              "      <td>39.119999</td>\n",
              "      <td>39.400002</td>\n",
              "      <td>38.430000</td>\n",
              "      <td>38.480000</td>\n",
              "      <td>38.480000</td>\n",
              "      <td>2902000</td>\n",
              "    </tr>\n",
              "    <tr>\n",
              "      <th>2021-02-03</th>\n",
              "      <td>38.299999</td>\n",
              "      <td>38.660000</td>\n",
              "      <td>37.956001</td>\n",
              "      <td>38.150002</td>\n",
              "      <td>38.150002</td>\n",
              "      <td>2987900</td>\n",
              "    </tr>\n",
              "    <tr>\n",
              "      <th>2021-02-04</th>\n",
              "      <td>38.369999</td>\n",
              "      <td>38.529999</td>\n",
              "      <td>37.860001</td>\n",
              "      <td>38.330002</td>\n",
              "      <td>38.330002</td>\n",
              "      <td>3439000</td>\n",
              "    </tr>\n",
              "    <tr>\n",
              "      <th>2021-02-05</th>\n",
              "      <td>38.000000</td>\n",
              "      <td>39.990002</td>\n",
              "      <td>38.000000</td>\n",
              "      <td>39.150002</td>\n",
              "      <td>39.150002</td>\n",
              "      <td>4408700</td>\n",
              "    </tr>\n",
              "    <tr>\n",
              "      <th>2021-02-08</th>\n",
              "      <td>39.529999</td>\n",
              "      <td>40.119999</td>\n",
              "      <td>39.340000</td>\n",
              "      <td>39.700001</td>\n",
              "      <td>39.700001</td>\n",
              "      <td>4544800</td>\n",
              "    </tr>\n",
              "    <tr>\n",
              "      <th>2021-02-09</th>\n",
              "      <td>37.099998</td>\n",
              "      <td>38.279999</td>\n",
              "      <td>36.950001</td>\n",
              "      <td>37.250000</td>\n",
              "      <td>37.250000</td>\n",
              "      <td>12941200</td>\n",
              "    </tr>\n",
              "    <tr>\n",
              "      <th>2021-02-10</th>\n",
              "      <td>37.660000</td>\n",
              "      <td>37.950001</td>\n",
              "      <td>36.799999</td>\n",
              "      <td>37.189999</td>\n",
              "      <td>37.189999</td>\n",
              "      <td>7926400</td>\n",
              "    </tr>\n",
              "    <tr>\n",
              "      <th>2021-02-11</th>\n",
              "      <td>37.299999</td>\n",
              "      <td>37.474998</td>\n",
              "      <td>36.630001</td>\n",
              "      <td>37.200001</td>\n",
              "      <td>37.200001</td>\n",
              "      <td>11064400</td>\n",
              "    </tr>\n",
              "    <tr>\n",
              "      <th>2021-02-12</th>\n",
              "      <td>37.000000</td>\n",
              "      <td>37.400002</td>\n",
              "      <td>36.759998</td>\n",
              "      <td>37.279999</td>\n",
              "      <td>37.279999</td>\n",
              "      <td>5471200</td>\n",
              "    </tr>\n",
              "  </tbody>\n",
              "</table>\n",
              "</div>"
            ],
            "text/plain": [
              "                 Open       High        Low      Close  Adj Close    Volume\n",
              "Date                                                                       \n",
              "2021-02-01  39.200001  39.450001  38.549999  38.660000  38.660000   4731700\n",
              "2021-02-02  39.119999  39.400002  38.430000  38.480000  38.480000   2902000\n",
              "2021-02-03  38.299999  38.660000  37.956001  38.150002  38.150002   2987900\n",
              "2021-02-04  38.369999  38.529999  37.860001  38.330002  38.330002   3439000\n",
              "2021-02-05  38.000000  39.990002  38.000000  39.150002  39.150002   4408700\n",
              "2021-02-08  39.529999  40.119999  39.340000  39.700001  39.700001   4544800\n",
              "2021-02-09  37.099998  38.279999  36.950001  37.250000  37.250000  12941200\n",
              "2021-02-10  37.660000  37.950001  36.799999  37.189999  37.189999   7926400\n",
              "2021-02-11  37.299999  37.474998  36.630001  37.200001  37.200001  11064400\n",
              "2021-02-12  37.000000  37.400002  36.759998  37.279999  37.279999   5471200"
            ]
          },
          "metadata": {
            "tags": []
          },
          "execution_count": 8
        }
      ]
    },
    {
      "cell_type": "code",
      "metadata": {
        "colab": {
          "base_uri": "https://localhost:8080/",
          "height": 105
        },
        "id": "uwelXeEPrSej",
        "outputId": "4c2d524b-1842-40d0-8d0d-acec5b1f29a6"
      },
      "source": [
        "# Get the last row of data to test the correctness\n",
        "actual_price = df.tail(1)\n",
        "actual_price"
      ],
      "execution_count": 9,
      "outputs": [
        {
          "output_type": "execute_result",
          "data": {
            "text/html": [
              "<div>\n",
              "<style scoped>\n",
              "    .dataframe tbody tr th:only-of-type {\n",
              "        vertical-align: middle;\n",
              "    }\n",
              "\n",
              "    .dataframe tbody tr th {\n",
              "        vertical-align: top;\n",
              "    }\n",
              "\n",
              "    .dataframe thead th {\n",
              "        text-align: right;\n",
              "    }\n",
              "</style>\n",
              "<table border=\"1\" class=\"dataframe\">\n",
              "  <thead>\n",
              "    <tr style=\"text-align: right;\">\n",
              "      <th></th>\n",
              "      <th>Open</th>\n",
              "      <th>High</th>\n",
              "      <th>Low</th>\n",
              "      <th>Close</th>\n",
              "      <th>Adj Close</th>\n",
              "      <th>Volume</th>\n",
              "    </tr>\n",
              "    <tr>\n",
              "      <th>Date</th>\n",
              "      <th></th>\n",
              "      <th></th>\n",
              "      <th></th>\n",
              "      <th></th>\n",
              "      <th></th>\n",
              "      <th></th>\n",
              "    </tr>\n",
              "  </thead>\n",
              "  <tbody>\n",
              "    <tr>\n",
              "      <th>2021-02-12</th>\n",
              "      <td>37.0</td>\n",
              "      <td>37.400002</td>\n",
              "      <td>36.759998</td>\n",
              "      <td>37.279999</td>\n",
              "      <td>37.279999</td>\n",
              "      <td>5471200</td>\n",
              "    </tr>\n",
              "  </tbody>\n",
              "</table>\n",
              "</div>"
            ],
            "text/plain": [
              "            Open       High        Low      Close  Adj Close   Volume\n",
              "Date                                                                 \n",
              "2021-02-12  37.0  37.400002  36.759998  37.279999  37.279999  5471200"
            ]
          },
          "metadata": {
            "tags": []
          },
          "execution_count": 9
        }
      ]
    },
    {
      "cell_type": "code",
      "metadata": {
        "colab": {
          "base_uri": "https://localhost:8080/",
          "height": 335
        },
        "id": "oo_PXg3Er1Eb",
        "outputId": "d4191ba2-3485-49dd-879f-6ea0bc8b9396"
      },
      "source": [
        "# Get the data except for the last row\n",
        "df = df.head(len(df) - 1)\n",
        "df"
      ],
      "execution_count": 10,
      "outputs": [
        {
          "output_type": "execute_result",
          "data": {
            "text/html": [
              "<div>\n",
              "<style scoped>\n",
              "    .dataframe tbody tr th:only-of-type {\n",
              "        vertical-align: middle;\n",
              "    }\n",
              "\n",
              "    .dataframe tbody tr th {\n",
              "        vertical-align: top;\n",
              "    }\n",
              "\n",
              "    .dataframe thead th {\n",
              "        text-align: right;\n",
              "    }\n",
              "</style>\n",
              "<table border=\"1\" class=\"dataframe\">\n",
              "  <thead>\n",
              "    <tr style=\"text-align: right;\">\n",
              "      <th></th>\n",
              "      <th>Open</th>\n",
              "      <th>High</th>\n",
              "      <th>Low</th>\n",
              "      <th>Close</th>\n",
              "      <th>Adj Close</th>\n",
              "      <th>Volume</th>\n",
              "    </tr>\n",
              "    <tr>\n",
              "      <th>Date</th>\n",
              "      <th></th>\n",
              "      <th></th>\n",
              "      <th></th>\n",
              "      <th></th>\n",
              "      <th></th>\n",
              "      <th></th>\n",
              "    </tr>\n",
              "  </thead>\n",
              "  <tbody>\n",
              "    <tr>\n",
              "      <th>2021-02-01</th>\n",
              "      <td>39.200001</td>\n",
              "      <td>39.450001</td>\n",
              "      <td>38.549999</td>\n",
              "      <td>38.660000</td>\n",
              "      <td>38.660000</td>\n",
              "      <td>4731700</td>\n",
              "    </tr>\n",
              "    <tr>\n",
              "      <th>2021-02-02</th>\n",
              "      <td>39.119999</td>\n",
              "      <td>39.400002</td>\n",
              "      <td>38.430000</td>\n",
              "      <td>38.480000</td>\n",
              "      <td>38.480000</td>\n",
              "      <td>2902000</td>\n",
              "    </tr>\n",
              "    <tr>\n",
              "      <th>2021-02-03</th>\n",
              "      <td>38.299999</td>\n",
              "      <td>38.660000</td>\n",
              "      <td>37.956001</td>\n",
              "      <td>38.150002</td>\n",
              "      <td>38.150002</td>\n",
              "      <td>2987900</td>\n",
              "    </tr>\n",
              "    <tr>\n",
              "      <th>2021-02-04</th>\n",
              "      <td>38.369999</td>\n",
              "      <td>38.529999</td>\n",
              "      <td>37.860001</td>\n",
              "      <td>38.330002</td>\n",
              "      <td>38.330002</td>\n",
              "      <td>3439000</td>\n",
              "    </tr>\n",
              "    <tr>\n",
              "      <th>2021-02-05</th>\n",
              "      <td>38.000000</td>\n",
              "      <td>39.990002</td>\n",
              "      <td>38.000000</td>\n",
              "      <td>39.150002</td>\n",
              "      <td>39.150002</td>\n",
              "      <td>4408700</td>\n",
              "    </tr>\n",
              "    <tr>\n",
              "      <th>2021-02-08</th>\n",
              "      <td>39.529999</td>\n",
              "      <td>40.119999</td>\n",
              "      <td>39.340000</td>\n",
              "      <td>39.700001</td>\n",
              "      <td>39.700001</td>\n",
              "      <td>4544800</td>\n",
              "    </tr>\n",
              "    <tr>\n",
              "      <th>2021-02-09</th>\n",
              "      <td>37.099998</td>\n",
              "      <td>38.279999</td>\n",
              "      <td>36.950001</td>\n",
              "      <td>37.250000</td>\n",
              "      <td>37.250000</td>\n",
              "      <td>12941200</td>\n",
              "    </tr>\n",
              "    <tr>\n",
              "      <th>2021-02-10</th>\n",
              "      <td>37.660000</td>\n",
              "      <td>37.950001</td>\n",
              "      <td>36.799999</td>\n",
              "      <td>37.189999</td>\n",
              "      <td>37.189999</td>\n",
              "      <td>7926400</td>\n",
              "    </tr>\n",
              "    <tr>\n",
              "      <th>2021-02-11</th>\n",
              "      <td>37.299999</td>\n",
              "      <td>37.474998</td>\n",
              "      <td>36.630001</td>\n",
              "      <td>37.200001</td>\n",
              "      <td>37.200001</td>\n",
              "      <td>11064400</td>\n",
              "    </tr>\n",
              "  </tbody>\n",
              "</table>\n",
              "</div>"
            ],
            "text/plain": [
              "                 Open       High        Low      Close  Adj Close    Volume\n",
              "Date                                                                       \n",
              "2021-02-01  39.200001  39.450001  38.549999  38.660000  38.660000   4731700\n",
              "2021-02-02  39.119999  39.400002  38.430000  38.480000  38.480000   2902000\n",
              "2021-02-03  38.299999  38.660000  37.956001  38.150002  38.150002   2987900\n",
              "2021-02-04  38.369999  38.529999  37.860001  38.330002  38.330002   3439000\n",
              "2021-02-05  38.000000  39.990002  38.000000  39.150002  39.150002   4408700\n",
              "2021-02-08  39.529999  40.119999  39.340000  39.700001  39.700001   4544800\n",
              "2021-02-09  37.099998  38.279999  36.950001  37.250000  37.250000  12941200\n",
              "2021-02-10  37.660000  37.950001  36.799999  37.189999  37.189999   7926400\n",
              "2021-02-11  37.299999  37.474998  36.630001  37.200001  37.200001  11064400"
            ]
          },
          "metadata": {
            "tags": []
          },
          "execution_count": 10
        }
      ]
    },
    {
      "cell_type": "code",
      "metadata": {
        "id": "sDe3lNEQsAYq"
      },
      "source": [
        "# Create independant dataset and dependant dataset\n",
        "df_days = df.index\n",
        "df_adj_close = df.loc[:, 'Adj Close']\n",
        "\n",
        "days = [[i.day] for i in df_days ]\n",
        "adj_close_price = [float(price) for price in df_adj_close]"
      ],
      "execution_count": 11,
      "outputs": []
    },
    {
      "cell_type": "code",
      "metadata": {
        "id": "hBJGErwJwcYs",
        "colab": {
          "base_uri": "https://localhost:8080/"
        },
        "outputId": "30f66655-1dc2-41b4-f3ee-9d7db6a28c81"
      },
      "source": [
        "# Linear Model\n",
        "lin_svr = SVR(kernel='linear', C=1000)\n",
        "lin_svr.fit(days, adj_close_price)\n",
        "# Polynomial Model\n",
        "poly_svr = SVR(kernel='poly', C=1000, degree=2)\n",
        "poly_svr.fit(days, adj_close_price)\n",
        "# Radial Basis Function Model\n",
        "rbf_svr = SVR(kernel='rbf', C=1000, gamma=0.85)\n",
        "rbf_svr.fit(days, adj_close_price)"
      ],
      "execution_count": 12,
      "outputs": [
        {
          "output_type": "execute_result",
          "data": {
            "text/plain": [
              "SVR(C=1000, cache_size=200, coef0=0.0, degree=3, epsilon=0.1, gamma=0.85,\n",
              "    kernel='rbf', max_iter=-1, shrinking=True, tol=0.001, verbose=False)"
            ]
          },
          "metadata": {
            "tags": []
          },
          "execution_count": 12
        }
      ]
    },
    {
      "cell_type": "code",
      "metadata": {
        "colab": {
          "base_uri": "https://localhost:8080/",
          "height": 406
        },
        "id": "l5JqY-cQxDxg",
        "outputId": "3ef707f7-cd70-4588-d73a-eead13966d05"
      },
      "source": [
        "# Plot the models\n",
        "plt.figure(figsize=(16,8))\n",
        "plt.scatter(days, adj_close_price, color='black', label='Data')\n",
        "plt.plot(days, rbf_svr.predict(days), color='green', label='RBF Model')\n",
        "plt.plot(days, poly_svr.predict(days), color='orange', label='Polynomial Model')\n",
        "plt.plot(days, lin_svr.predict(days), color='blue', label='Linear Model')\n",
        "plt.title(ticker)\n",
        "plt.xlabel('Days')\n",
        "plt.ylabel('Adj Close Price (USD)')\n",
        "plt.legend()\n",
        "plt.show()"
      ],
      "execution_count": 13,
      "outputs": [
        {
          "output_type": "display_data",
          "data": {
            "image/png": "[encoded data removed]",
            "text/plain": [
              "<Figure size 1152x576 with 1 Axes>"
            ]
          },
          "metadata": {
            "tags": []
          }
        }
      ]
    },
    {
      "cell_type": "code",
      "metadata": {
        "colab": {
          "base_uri": "https://localhost:8080/"
        },
        "id": "XLqc8l62yL5a",
        "outputId": "9e263b78-b659-40a3-c8c2-f7d67547e1f5"
      },
      "source": [
        "# Show the predicted price for the given day\n",
        "day = [[30]]\n",
        "\n",
        "print(f\"Predicted price using RBF Model: {rbf_svr.predict(day)}\")\n",
        "print(f\"Predicted price using Polynomial Model: {poly_svr.predict(day)}\")\n",
        "print(f\"Predicted price using Linear Model: {lin_svr.predict(day)}\")\n",
        "print(f\"Actual Price: {actual_price.iloc[0]['Adj Close']}\")"
      ],
      "execution_count": 14,
      "outputs": [
        {
          "output_type": "stream",
          "text": [
            "Predicted price using RBF Model: [38.34022619]\n",
            "Predicted price using Polynomial Model: [27.63247047]\n",
            "Predicted price using Linear Model: [34.15665461]\n",
            "Actual Price: 37.279998779296875\n"
          ],
          "name": "stdout"
        }
      ]
    }
  ]
}